{
 "cells": [
  {
   "cell_type": "code",
   "execution_count": 1,
   "id": "a0dc5a0c",
   "metadata": {},
   "outputs": [],
   "source": [
    "#importing libraries\n",
    "import pandas as pd\n",
    "import numpy as np\n",
    "from sklearn.model_selection import train_test_split\n",
    "from sklearn.metrics.pairwise import pairwise_distances"
   ]
  },
  {
   "cell_type": "markdown",
   "id": "ffae4b58",
   "metadata": {},
   "source": [
    "####  Read the books dataset and explore it\n"
   ]
  },
  {
   "cell_type": "code",
   "execution_count": 2,
   "id": "f1bba11b",
   "metadata": {},
   "outputs": [
    {
     "data": {
      "text/html": [
       "<div>\n",
       "<style scoped>\n",
       "    .dataframe tbody tr th:only-of-type {\n",
       "        vertical-align: middle;\n",
       "    }\n",
       "\n",
       "    .dataframe tbody tr th {\n",
       "        vertical-align: top;\n",
       "    }\n",
       "\n",
       "    .dataframe thead th {\n",
       "        text-align: right;\n",
       "    }\n",
       "</style>\n",
       "<table border=\"1\" class=\"dataframe\">\n",
       "  <thead>\n",
       "    <tr style=\"text-align: right;\">\n",
       "      <th></th>\n",
       "      <th>isbn</th>\n",
       "      <th>book_title</th>\n",
       "      <th>book_author</th>\n",
       "      <th>year_of_publication</th>\n",
       "      <th>publisher</th>\n",
       "    </tr>\n",
       "  </thead>\n",
       "  <tbody>\n",
       "    <tr>\n",
       "      <th>0</th>\n",
       "      <td>312956762</td>\n",
       "      <td>Die Hard: With a Vengeance - A Novel</td>\n",
       "      <td>D. Chiel</td>\n",
       "      <td>1995</td>\n",
       "      <td>St Martins Pr</td>\n",
       "    </tr>\n",
       "    <tr>\n",
       "      <th>1</th>\n",
       "      <td>034545006X</td>\n",
       "      <td>The Taking</td>\n",
       "      <td>J. D. Landis</td>\n",
       "      <td>2003</td>\n",
       "      <td>Ballantine Books</td>\n",
       "    </tr>\n",
       "    <tr>\n",
       "      <th>2</th>\n",
       "      <td>1579651372</td>\n",
       "      <td>Ruskin's Rose: A Venetian Love Story</td>\n",
       "      <td>Mimma Balia</td>\n",
       "      <td>2000</td>\n",
       "      <td>Artisan Publishers</td>\n",
       "    </tr>\n",
       "    <tr>\n",
       "      <th>3</th>\n",
       "      <td>416652700</td>\n",
       "      <td>The Pooh cook book: inspired by \\Winnie-the-Po...</td>\n",
       "      <td>;Katie Stewart\"</td>\n",
       "      <td>1971</td>\n",
       "      <td>Methuen</td>\n",
       "    </tr>\n",
       "    <tr>\n",
       "      <th>4</th>\n",
       "      <td>1853114103</td>\n",
       "      <td>Lord Have Mercy</td>\n",
       "      <td>\\\\\"Ron\\\"\"</td>\n",
       "      <td>2001</td>\n",
       "      <td>Canterbury Press</td>\n",
       "    </tr>\n",
       "  </tbody>\n",
       "</table>\n",
       "</div>"
      ],
      "text/plain": [
       "         isbn                                         book_title  \\\n",
       "0   312956762               Die Hard: With a Vengeance - A Novel   \n",
       "1  034545006X                                         The Taking   \n",
       "2  1579651372               Ruskin's Rose: A Venetian Love Story   \n",
       "3   416652700  The Pooh cook book: inspired by \\Winnie-the-Po...   \n",
       "4  1853114103                                    Lord Have Mercy   \n",
       "\n",
       "       book_author  year_of_publication           publisher  \n",
       "0         D. Chiel                 1995       St Martins Pr  \n",
       "1     J. D. Landis                 2003    Ballantine Books  \n",
       "2      Mimma Balia                 2000  Artisan Publishers  \n",
       "3  ;Katie Stewart\"                 1971             Methuen  \n",
       "4        \\\\\"Ron\\\"\"                 2001    Canterbury Press  "
      ]
     },
     "execution_count": 2,
     "metadata": {},
     "output_type": "execute_result"
    }
   ],
   "source": [
    "#reading in csv files\n",
    "books=pd.read_csv(\"BX-Books.csv\", encoding=\"utf-8\") \n",
    "books.head()"
   ]
  },
  {
   "cell_type": "code",
   "execution_count": 3,
   "id": "7e088647",
   "metadata": {},
   "outputs": [
    {
     "data": {
      "text/html": [
       "<div>\n",
       "<style scoped>\n",
       "    .dataframe tbody tr th:only-of-type {\n",
       "        vertical-align: middle;\n",
       "    }\n",
       "\n",
       "    .dataframe tbody tr th {\n",
       "        vertical-align: top;\n",
       "    }\n",
       "\n",
       "    .dataframe thead th {\n",
       "        text-align: right;\n",
       "    }\n",
       "</style>\n",
       "<table border=\"1\" class=\"dataframe\">\n",
       "  <thead>\n",
       "    <tr style=\"text-align: right;\">\n",
       "      <th></th>\n",
       "      <th>isbn</th>\n",
       "      <th>book_title</th>\n",
       "      <th>book_author</th>\n",
       "      <th>year_of_publication</th>\n",
       "      <th>publisher</th>\n",
       "    </tr>\n",
       "  </thead>\n",
       "  <tbody>\n",
       "    <tr>\n",
       "      <th>271353</th>\n",
       "      <td>1573222623</td>\n",
       "      <td>Drinking Coffee Elsewhere (Today Show Book Clu...</td>\n",
       "      <td>ZZ Packer</td>\n",
       "      <td>2003</td>\n",
       "      <td>Riverhead Books</td>\n",
       "    </tr>\n",
       "    <tr>\n",
       "      <th>271354</th>\n",
       "      <td>1573222348</td>\n",
       "      <td>Drinking Coffee Elsewhere (Alex Awards (Awards))</td>\n",
       "      <td>ZZ Packer</td>\n",
       "      <td>2003</td>\n",
       "      <td>Riverhead Books</td>\n",
       "    </tr>\n",
       "    <tr>\n",
       "      <th>271355</th>\n",
       "      <td>1573223786</td>\n",
       "      <td>Drinking Coffee Elsewhere</td>\n",
       "      <td>Zz Packer</td>\n",
       "      <td>2004</td>\n",
       "      <td>Riverhead Books</td>\n",
       "    </tr>\n",
       "    <tr>\n",
       "      <th>271356</th>\n",
       "      <td>9627982032</td>\n",
       "      <td>The Credit Suisse Guide to Managing Your Perso...</td>\n",
       "      <td>NaN</td>\n",
       "      <td>1995</td>\n",
       "      <td>Edinburgh Financial Publishing</td>\n",
       "    </tr>\n",
       "    <tr>\n",
       "      <th>271357</th>\n",
       "      <td>751352497</td>\n",
       "      <td>A+ Quiz Masters:01 Earth</td>\n",
       "      <td>NaN</td>\n",
       "      <td>1999</td>\n",
       "      <td>Dorling Kindersley</td>\n",
       "    </tr>\n",
       "  </tbody>\n",
       "</table>\n",
       "</div>"
      ],
      "text/plain": [
       "              isbn                                         book_title  \\\n",
       "271353  1573222623  Drinking Coffee Elsewhere (Today Show Book Clu...   \n",
       "271354  1573222348   Drinking Coffee Elsewhere (Alex Awards (Awards))   \n",
       "271355  1573223786                          Drinking Coffee Elsewhere   \n",
       "271356  9627982032  The Credit Suisse Guide to Managing Your Perso...   \n",
       "271357   751352497                           A+ Quiz Masters:01 Earth   \n",
       "\n",
       "       book_author  year_of_publication                       publisher  \n",
       "271353   ZZ Packer                 2003                 Riverhead Books  \n",
       "271354   ZZ Packer                 2003                 Riverhead Books  \n",
       "271355   Zz Packer                 2004                 Riverhead Books  \n",
       "271356         NaN                 1995  Edinburgh Financial Publishing  \n",
       "271357         NaN                 1999              Dorling Kindersley  "
      ]
     },
     "execution_count": 3,
     "metadata": {},
     "output_type": "execute_result"
    }
   ],
   "source": [
    "books.tail()"
   ]
  },
  {
   "cell_type": "code",
   "execution_count": 4,
   "id": "ebea8849",
   "metadata": {},
   "outputs": [
    {
     "name": "stdout",
     "output_type": "stream",
     "text": [
      "<class 'pandas.core.frame.DataFrame'>\n",
      "RangeIndex: 271358 entries, 0 to 271357\n",
      "Data columns (total 5 columns):\n",
      " #   Column               Non-Null Count   Dtype \n",
      "---  ------               --------------   ----- \n",
      " 0   isbn                 271358 non-null  object\n",
      " 1   book_title           271358 non-null  object\n",
      " 2   book_author          271356 non-null  object\n",
      " 3   year_of_publication  271358 non-null  int64 \n",
      " 4   publisher            271356 non-null  object\n",
      "dtypes: int64(1), object(4)\n",
      "memory usage: 10.4+ MB\n"
     ]
    }
   ],
   "source": [
    "books.info()"
   ]
  },
  {
   "cell_type": "markdown",
   "id": "1800260e",
   "metadata": {},
   "source": [
    "#### Clean up NaN values"
   ]
  },
  {
   "cell_type": "code",
   "execution_count": 5,
   "id": "abcc49ef",
   "metadata": {},
   "outputs": [
    {
     "data": {
      "text/html": [
       "<div>\n",
       "<style scoped>\n",
       "    .dataframe tbody tr th:only-of-type {\n",
       "        vertical-align: middle;\n",
       "    }\n",
       "\n",
       "    .dataframe tbody tr th {\n",
       "        vertical-align: top;\n",
       "    }\n",
       "\n",
       "    .dataframe thead th {\n",
       "        text-align: right;\n",
       "    }\n",
       "</style>\n",
       "<table border=\"1\" class=\"dataframe\">\n",
       "  <thead>\n",
       "    <tr style=\"text-align: right;\">\n",
       "      <th></th>\n",
       "      <th>isbn</th>\n",
       "      <th>book_title</th>\n",
       "      <th>book_author</th>\n",
       "      <th>year_of_publication</th>\n",
       "      <th>publisher</th>\n",
       "    </tr>\n",
       "  </thead>\n",
       "  <tbody>\n",
       "    <tr>\n",
       "      <th>70531</th>\n",
       "      <td>193169656X</td>\n",
       "      <td>Tyrant Moon</td>\n",
       "      <td>Elaine Corvidae</td>\n",
       "      <td>2002</td>\n",
       "      <td>NaN</td>\n",
       "    </tr>\n",
       "    <tr>\n",
       "      <th>159822</th>\n",
       "      <td>1931696993</td>\n",
       "      <td>Finders Keepers</td>\n",
       "      <td>Linnea Sinclair</td>\n",
       "      <td>2001</td>\n",
       "      <td>NaN</td>\n",
       "    </tr>\n",
       "    <tr>\n",
       "      <th>271356</th>\n",
       "      <td>9627982032</td>\n",
       "      <td>The Credit Suisse Guide to Managing Your Perso...</td>\n",
       "      <td>NaN</td>\n",
       "      <td>1995</td>\n",
       "      <td>Edinburgh Financial Publishing</td>\n",
       "    </tr>\n",
       "    <tr>\n",
       "      <th>271357</th>\n",
       "      <td>751352497</td>\n",
       "      <td>A+ Quiz Masters:01 Earth</td>\n",
       "      <td>NaN</td>\n",
       "      <td>1999</td>\n",
       "      <td>Dorling Kindersley</td>\n",
       "    </tr>\n",
       "  </tbody>\n",
       "</table>\n",
       "</div>"
      ],
      "text/plain": [
       "              isbn                                         book_title  \\\n",
       "70531   193169656X                                        Tyrant Moon   \n",
       "159822  1931696993                                    Finders Keepers   \n",
       "271356  9627982032  The Credit Suisse Guide to Managing Your Perso...   \n",
       "271357   751352497                           A+ Quiz Masters:01 Earth   \n",
       "\n",
       "            book_author  year_of_publication                       publisher  \n",
       "70531   Elaine Corvidae                 2002                             NaN  \n",
       "159822  Linnea Sinclair                 2001                             NaN  \n",
       "271356              NaN                 1995  Edinburgh Financial Publishing  \n",
       "271357              NaN                 1999              Dorling Kindersley  "
      ]
     },
     "execution_count": 5,
     "metadata": {},
     "output_type": "execute_result"
    }
   ],
   "source": [
    "books[books.isna().any(axis=1)]# records containing null values"
   ]
  },
  {
   "cell_type": "code",
   "execution_count": 6,
   "id": "d51058b8",
   "metadata": {},
   "outputs": [],
   "source": [
    "#dropping records\n",
    "books=books.dropna()"
   ]
  },
  {
   "cell_type": "code",
   "execution_count": 7,
   "id": "26acaaa8",
   "metadata": {},
   "outputs": [
    {
     "data": {
      "text/plain": [
       "(271354, 5)"
      ]
     },
     "execution_count": 7,
     "metadata": {},
     "output_type": "execute_result"
    }
   ],
   "source": [
    "books.shape# 4 records have been dropped "
   ]
  },
  {
   "cell_type": "markdown",
   "id": "64512714",
   "metadata": {},
   "source": [
    "#### Read the data where ratings are given by users\n",
    "\n"
   ]
  },
  {
   "cell_type": "code",
   "execution_count": 8,
   "id": "8b5a3ae4",
   "metadata": {},
   "outputs": [],
   "source": [
    "ratings=pd.read_csv(\"BX-Book-Ratings.csv\",encoding=\"latin-1\")# utf-8 encoding doesn't work"
   ]
  },
  {
   "cell_type": "code",
   "execution_count": 9,
   "id": "4d31c076",
   "metadata": {},
   "outputs": [
    {
     "data": {
      "text/html": [
       "<div>\n",
       "<style scoped>\n",
       "    .dataframe tbody tr th:only-of-type {\n",
       "        vertical-align: middle;\n",
       "    }\n",
       "\n",
       "    .dataframe tbody tr th {\n",
       "        vertical-align: top;\n",
       "    }\n",
       "\n",
       "    .dataframe thead th {\n",
       "        text-align: right;\n",
       "    }\n",
       "</style>\n",
       "<table border=\"1\" class=\"dataframe\">\n",
       "  <thead>\n",
       "    <tr style=\"text-align: right;\">\n",
       "      <th></th>\n",
       "      <th>user_id</th>\n",
       "      <th>isbn</th>\n",
       "      <th>rating</th>\n",
       "    </tr>\n",
       "  </thead>\n",
       "  <tbody>\n",
       "    <tr>\n",
       "      <th>0</th>\n",
       "      <td>276725</td>\n",
       "      <td>034545104X</td>\n",
       "      <td>0</td>\n",
       "    </tr>\n",
       "    <tr>\n",
       "      <th>1</th>\n",
       "      <td>276726</td>\n",
       "      <td>155061224</td>\n",
       "      <td>5</td>\n",
       "    </tr>\n",
       "    <tr>\n",
       "      <th>2</th>\n",
       "      <td>276727</td>\n",
       "      <td>446520802</td>\n",
       "      <td>0</td>\n",
       "    </tr>\n",
       "    <tr>\n",
       "      <th>3</th>\n",
       "      <td>276729</td>\n",
       "      <td>052165615X</td>\n",
       "      <td>3</td>\n",
       "    </tr>\n",
       "    <tr>\n",
       "      <th>4</th>\n",
       "      <td>276729</td>\n",
       "      <td>521795028</td>\n",
       "      <td>6</td>\n",
       "    </tr>\n",
       "  </tbody>\n",
       "</table>\n",
       "</div>"
      ],
      "text/plain": [
       "   user_id        isbn  rating\n",
       "0   276725  034545104X       0\n",
       "1   276726   155061224       5\n",
       "2   276727   446520802       0\n",
       "3   276729  052165615X       3\n",
       "4   276729   521795028       6"
      ]
     },
     "execution_count": 9,
     "metadata": {},
     "output_type": "execute_result"
    }
   ],
   "source": [
    "ratings.head()\n"
   ]
  },
  {
   "cell_type": "code",
   "execution_count": 10,
   "id": "89ad902c",
   "metadata": {},
   "outputs": [
    {
     "name": "stdout",
     "output_type": "stream",
     "text": [
      "<class 'pandas.core.frame.DataFrame'>\n",
      "RangeIndex: 1048575 entries, 0 to 1048574\n",
      "Data columns (total 3 columns):\n",
      " #   Column   Non-Null Count    Dtype \n",
      "---  ------   --------------    ----- \n",
      " 0   user_id  1048575 non-null  int64 \n",
      " 1   isbn     1048575 non-null  object\n",
      " 2   rating   1048575 non-null  int64 \n",
      "dtypes: int64(2), object(1)\n",
      "memory usage: 24.0+ MB\n"
     ]
    }
   ],
   "source": [
    "ratings.info()"
   ]
  },
  {
   "cell_type": "code",
   "execution_count": 11,
   "id": "7b13fe95",
   "metadata": {},
   "outputs": [],
   "source": [
    "#taking the first 10,000 rows of the dataset because of Out of Memory error\n",
    "\n",
    "ratings=ratings[0:10000]\n"
   ]
  },
  {
   "cell_type": "code",
   "execution_count": 12,
   "id": "ae3e8442",
   "metadata": {},
   "outputs": [
    {
     "data": {
      "text/html": [
       "<div>\n",
       "<style scoped>\n",
       "    .dataframe tbody tr th:only-of-type {\n",
       "        vertical-align: middle;\n",
       "    }\n",
       "\n",
       "    .dataframe tbody tr th {\n",
       "        vertical-align: top;\n",
       "    }\n",
       "\n",
       "    .dataframe thead th {\n",
       "        text-align: right;\n",
       "    }\n",
       "</style>\n",
       "<table border=\"1\" class=\"dataframe\">\n",
       "  <thead>\n",
       "    <tr style=\"text-align: right;\">\n",
       "      <th></th>\n",
       "      <th>user_id</th>\n",
       "      <th>isbn</th>\n",
       "      <th>rating</th>\n",
       "    </tr>\n",
       "  </thead>\n",
       "  <tbody>\n",
       "    <tr>\n",
       "      <th>0</th>\n",
       "      <td>276725</td>\n",
       "      <td>034545104X</td>\n",
       "      <td>0</td>\n",
       "    </tr>\n",
       "    <tr>\n",
       "      <th>1</th>\n",
       "      <td>276726</td>\n",
       "      <td>155061224</td>\n",
       "      <td>5</td>\n",
       "    </tr>\n",
       "    <tr>\n",
       "      <th>2</th>\n",
       "      <td>276727</td>\n",
       "      <td>446520802</td>\n",
       "      <td>0</td>\n",
       "    </tr>\n",
       "    <tr>\n",
       "      <th>3</th>\n",
       "      <td>276729</td>\n",
       "      <td>052165615X</td>\n",
       "      <td>3</td>\n",
       "    </tr>\n",
       "    <tr>\n",
       "      <th>4</th>\n",
       "      <td>276729</td>\n",
       "      <td>521795028</td>\n",
       "      <td>6</td>\n",
       "    </tr>\n",
       "  </tbody>\n",
       "</table>\n",
       "</div>"
      ],
      "text/plain": [
       "   user_id        isbn  rating\n",
       "0   276725  034545104X       0\n",
       "1   276726   155061224       5\n",
       "2   276727   446520802       0\n",
       "3   276729  052165615X       3\n",
       "4   276729   521795028       6"
      ]
     },
     "execution_count": 12,
     "metadata": {},
     "output_type": "execute_result"
    }
   ],
   "source": [
    "ratings.head()"
   ]
  },
  {
   "cell_type": "markdown",
   "id": "15d8f96d",
   "metadata": {},
   "source": [
    "#### Creating Merged Dataset"
   ]
  },
  {
   "cell_type": "code",
   "execution_count": 13,
   "id": "dc0106ca",
   "metadata": {},
   "outputs": [],
   "source": [
    "#merging with books dataset \n",
    "df_merged=pd.merge(ratings, books, on='isbn')"
   ]
  },
  {
   "cell_type": "code",
   "execution_count": 14,
   "id": "89a74251",
   "metadata": {
    "scrolled": true
   },
   "outputs": [
    {
     "data": {
      "text/html": [
       "<div>\n",
       "<style scoped>\n",
       "    .dataframe tbody tr th:only-of-type {\n",
       "        vertical-align: middle;\n",
       "    }\n",
       "\n",
       "    .dataframe tbody tr th {\n",
       "        vertical-align: top;\n",
       "    }\n",
       "\n",
       "    .dataframe thead th {\n",
       "        text-align: right;\n",
       "    }\n",
       "</style>\n",
       "<table border=\"1\" class=\"dataframe\">\n",
       "  <thead>\n",
       "    <tr style=\"text-align: right;\">\n",
       "      <th></th>\n",
       "      <th>user_id</th>\n",
       "      <th>isbn</th>\n",
       "      <th>rating</th>\n",
       "      <th>book_title</th>\n",
       "      <th>book_author</th>\n",
       "      <th>year_of_publication</th>\n",
       "      <th>publisher</th>\n",
       "    </tr>\n",
       "  </thead>\n",
       "  <tbody>\n",
       "    <tr>\n",
       "      <th>0</th>\n",
       "      <td>276725</td>\n",
       "      <td>034545104X</td>\n",
       "      <td>0</td>\n",
       "      <td>Flesh Tones: A Novel</td>\n",
       "      <td>M. J. Rose</td>\n",
       "      <td>2002</td>\n",
       "      <td>Ballantine Books</td>\n",
       "    </tr>\n",
       "    <tr>\n",
       "      <th>1</th>\n",
       "      <td>276726</td>\n",
       "      <td>155061224</td>\n",
       "      <td>5</td>\n",
       "      <td>Rites of Passage</td>\n",
       "      <td>Judith Rae</td>\n",
       "      <td>2001</td>\n",
       "      <td>Heinle</td>\n",
       "    </tr>\n",
       "    <tr>\n",
       "      <th>2</th>\n",
       "      <td>276727</td>\n",
       "      <td>446520802</td>\n",
       "      <td>0</td>\n",
       "      <td>The Notebook</td>\n",
       "      <td>Nicholas Sparks</td>\n",
       "      <td>1996</td>\n",
       "      <td>Warner Books</td>\n",
       "    </tr>\n",
       "    <tr>\n",
       "      <th>3</th>\n",
       "      <td>278418</td>\n",
       "      <td>446520802</td>\n",
       "      <td>0</td>\n",
       "      <td>The Notebook</td>\n",
       "      <td>Nicholas Sparks</td>\n",
       "      <td>1996</td>\n",
       "      <td>Warner Books</td>\n",
       "    </tr>\n",
       "    <tr>\n",
       "      <th>4</th>\n",
       "      <td>276729</td>\n",
       "      <td>052165615X</td>\n",
       "      <td>3</td>\n",
       "      <td>Help!: Level 1</td>\n",
       "      <td>Philip Prowse</td>\n",
       "      <td>1999</td>\n",
       "      <td>Cambridge University Press</td>\n",
       "    </tr>\n",
       "  </tbody>\n",
       "</table>\n",
       "</div>"
      ],
      "text/plain": [
       "   user_id        isbn  rating            book_title      book_author  \\\n",
       "0   276725  034545104X       0  Flesh Tones: A Novel       M. J. Rose   \n",
       "1   276726   155061224       5      Rites of Passage       Judith Rae   \n",
       "2   276727   446520802       0          The Notebook  Nicholas Sparks   \n",
       "3   278418   446520802       0          The Notebook  Nicholas Sparks   \n",
       "4   276729  052165615X       3        Help!: Level 1    Philip Prowse   \n",
       "\n",
       "   year_of_publication                   publisher  \n",
       "0                 2002            Ballantine Books  \n",
       "1                 2001                      Heinle  \n",
       "2                 1996                Warner Books  \n",
       "3                 1996                Warner Books  \n",
       "4                 1999  Cambridge University Press  "
      ]
     },
     "execution_count": 14,
     "metadata": {},
     "output_type": "execute_result"
    }
   ],
   "source": [
    "df_merged.head()"
   ]
  },
  {
   "cell_type": "code",
   "execution_count": 15,
   "id": "ee55d41f",
   "metadata": {},
   "outputs": [
    {
     "data": {
      "text/plain": [
       "(828, 8051)"
      ]
     },
     "execution_count": 15,
     "metadata": {},
     "output_type": "execute_result"
    }
   ],
   "source": [
    "# unique users and books\n",
    "unique_user_count=df_merged.user_id.nunique()\n",
    "unique_book_count=df_merged.isbn.nunique()\n",
    "\n",
    "unique_user_count, unique_book_count"
   ]
  },
  {
   "cell_type": "markdown",
   "id": "b5ee7280",
   "metadata": {},
   "source": [
    "\n",
    "* Convert ISBN variables to numeric numbers in the correct order\n",
    "\n",
    "* Convert the user_id variable to numeric numbers in the correct order\n",
    "\n",
    "* Convert both user_id and ISBN to the ordered list, i.e., from 0...n-1\n"
   ]
  },
  {
   "cell_type": "code",
   "execution_count": 16,
   "id": "41176f2d",
   "metadata": {},
   "outputs": [],
   "source": [
    "unique_users_list=df_merged.user_id.unique()\n",
    "unique_books_list=df_merged.isbn.unique()\n"
   ]
  },
  {
   "cell_type": "code",
   "execution_count": 17,
   "id": "b9ba84b3",
   "metadata": {},
   "outputs": [],
   "source": [
    "#creating dictionary to map sequential values from 0 to n-1\n",
    "unique_users_dict={user:index for index,user in enumerate(unique_users_list) }\n",
    "unique_books_dict={book:index for index,book in enumerate(unique_books_list)}"
   ]
  },
  {
   "cell_type": "code",
   "execution_count": 18,
   "id": "a848fa2d",
   "metadata": {},
   "outputs": [
    {
     "data": {
      "text/plain": [
       "1"
      ]
     },
     "execution_count": 18,
     "metadata": {},
     "output_type": "execute_result"
    }
   ],
   "source": [
    "unique_users_dict[276726]"
   ]
  },
  {
   "cell_type": "code",
   "execution_count": 19,
   "id": "99b36947",
   "metadata": {},
   "outputs": [],
   "source": [
    "#mapping function\n",
    "def mapping_users(key):\n",
    "    return unique_users_dict[key]\n",
    "def mapping_books(key):\n",
    "    return unique_books_dict[key]\n",
    "    "
   ]
  },
  {
   "cell_type": "code",
   "execution_count": 20,
   "id": "9e36c3bb",
   "metadata": {},
   "outputs": [],
   "source": [
    "# adding new index values to dataframe\n",
    "df_merged['ordered_user_id']=df_merged['user_id'].apply(mapping_users)\n",
    "df_merged['ordered_book_id']=df_merged['isbn'].apply(mapping_books)"
   ]
  },
  {
   "cell_type": "code",
   "execution_count": 21,
   "id": "f96ce687",
   "metadata": {},
   "outputs": [
    {
     "data": {
      "text/html": [
       "<div>\n",
       "<style scoped>\n",
       "    .dataframe tbody tr th:only-of-type {\n",
       "        vertical-align: middle;\n",
       "    }\n",
       "\n",
       "    .dataframe tbody tr th {\n",
       "        vertical-align: top;\n",
       "    }\n",
       "\n",
       "    .dataframe thead th {\n",
       "        text-align: right;\n",
       "    }\n",
       "</style>\n",
       "<table border=\"1\" class=\"dataframe\">\n",
       "  <thead>\n",
       "    <tr style=\"text-align: right;\">\n",
       "      <th></th>\n",
       "      <th>user_id</th>\n",
       "      <th>isbn</th>\n",
       "      <th>rating</th>\n",
       "      <th>book_title</th>\n",
       "      <th>book_author</th>\n",
       "      <th>year_of_publication</th>\n",
       "      <th>publisher</th>\n",
       "      <th>ordered_user_id</th>\n",
       "      <th>ordered_book_id</th>\n",
       "    </tr>\n",
       "  </thead>\n",
       "  <tbody>\n",
       "    <tr>\n",
       "      <th>0</th>\n",
       "      <td>276725</td>\n",
       "      <td>034545104X</td>\n",
       "      <td>0</td>\n",
       "      <td>Flesh Tones: A Novel</td>\n",
       "      <td>M. J. Rose</td>\n",
       "      <td>2002</td>\n",
       "      <td>Ballantine Books</td>\n",
       "      <td>0</td>\n",
       "      <td>0</td>\n",
       "    </tr>\n",
       "    <tr>\n",
       "      <th>1</th>\n",
       "      <td>276726</td>\n",
       "      <td>155061224</td>\n",
       "      <td>5</td>\n",
       "      <td>Rites of Passage</td>\n",
       "      <td>Judith Rae</td>\n",
       "      <td>2001</td>\n",
       "      <td>Heinle</td>\n",
       "      <td>1</td>\n",
       "      <td>1</td>\n",
       "    </tr>\n",
       "    <tr>\n",
       "      <th>2</th>\n",
       "      <td>276727</td>\n",
       "      <td>446520802</td>\n",
       "      <td>0</td>\n",
       "      <td>The Notebook</td>\n",
       "      <td>Nicholas Sparks</td>\n",
       "      <td>1996</td>\n",
       "      <td>Warner Books</td>\n",
       "      <td>2</td>\n",
       "      <td>2</td>\n",
       "    </tr>\n",
       "    <tr>\n",
       "      <th>3</th>\n",
       "      <td>278418</td>\n",
       "      <td>446520802</td>\n",
       "      <td>0</td>\n",
       "      <td>The Notebook</td>\n",
       "      <td>Nicholas Sparks</td>\n",
       "      <td>1996</td>\n",
       "      <td>Warner Books</td>\n",
       "      <td>3</td>\n",
       "      <td>2</td>\n",
       "    </tr>\n",
       "    <tr>\n",
       "      <th>4</th>\n",
       "      <td>276729</td>\n",
       "      <td>052165615X</td>\n",
       "      <td>3</td>\n",
       "      <td>Help!: Level 1</td>\n",
       "      <td>Philip Prowse</td>\n",
       "      <td>1999</td>\n",
       "      <td>Cambridge University Press</td>\n",
       "      <td>4</td>\n",
       "      <td>3</td>\n",
       "    </tr>\n",
       "  </tbody>\n",
       "</table>\n",
       "</div>"
      ],
      "text/plain": [
       "   user_id        isbn  rating            book_title      book_author  \\\n",
       "0   276725  034545104X       0  Flesh Tones: A Novel       M. J. Rose   \n",
       "1   276726   155061224       5      Rites of Passage       Judith Rae   \n",
       "2   276727   446520802       0          The Notebook  Nicholas Sparks   \n",
       "3   278418   446520802       0          The Notebook  Nicholas Sparks   \n",
       "4   276729  052165615X       3        Help!: Level 1    Philip Prowse   \n",
       "\n",
       "   year_of_publication                   publisher  ordered_user_id  \\\n",
       "0                 2002            Ballantine Books                0   \n",
       "1                 2001                      Heinle                1   \n",
       "2                 1996                Warner Books                2   \n",
       "3                 1996                Warner Books                3   \n",
       "4                 1999  Cambridge University Press                4   \n",
       "\n",
       "   ordered_book_id  \n",
       "0                0  \n",
       "1                1  \n",
       "2                2  \n",
       "3                2  \n",
       "4                3  "
      ]
     },
     "execution_count": 21,
     "metadata": {},
     "output_type": "execute_result"
    }
   ],
   "source": [
    "df_merged.head()"
   ]
  },
  {
   "cell_type": "markdown",
   "id": "b6961ec5",
   "metadata": {},
   "source": [
    "Re-index the columns to build a matrix"
   ]
  },
  {
   "cell_type": "code",
   "execution_count": 22,
   "id": "70b3c970",
   "metadata": {},
   "outputs": [],
   "source": [
    "df_merged=df_merged.reindex(columns=['ordered_user_id','ordered_book_id','rating','book_title','book_author','year_of_publication','publisher'])"
   ]
  },
  {
   "cell_type": "code",
   "execution_count": 23,
   "id": "cab4dd24",
   "metadata": {},
   "outputs": [
    {
     "data": {
      "text/html": [
       "<div>\n",
       "<style scoped>\n",
       "    .dataframe tbody tr th:only-of-type {\n",
       "        vertical-align: middle;\n",
       "    }\n",
       "\n",
       "    .dataframe tbody tr th {\n",
       "        vertical-align: top;\n",
       "    }\n",
       "\n",
       "    .dataframe thead th {\n",
       "        text-align: right;\n",
       "    }\n",
       "</style>\n",
       "<table border=\"1\" class=\"dataframe\">\n",
       "  <thead>\n",
       "    <tr style=\"text-align: right;\">\n",
       "      <th></th>\n",
       "      <th>ordered_user_id</th>\n",
       "      <th>ordered_book_id</th>\n",
       "      <th>rating</th>\n",
       "      <th>book_title</th>\n",
       "      <th>book_author</th>\n",
       "      <th>year_of_publication</th>\n",
       "      <th>publisher</th>\n",
       "    </tr>\n",
       "  </thead>\n",
       "  <tbody>\n",
       "    <tr>\n",
       "      <th>0</th>\n",
       "      <td>0</td>\n",
       "      <td>0</td>\n",
       "      <td>0</td>\n",
       "      <td>Flesh Tones: A Novel</td>\n",
       "      <td>M. J. Rose</td>\n",
       "      <td>2002</td>\n",
       "      <td>Ballantine Books</td>\n",
       "    </tr>\n",
       "    <tr>\n",
       "      <th>1</th>\n",
       "      <td>1</td>\n",
       "      <td>1</td>\n",
       "      <td>5</td>\n",
       "      <td>Rites of Passage</td>\n",
       "      <td>Judith Rae</td>\n",
       "      <td>2001</td>\n",
       "      <td>Heinle</td>\n",
       "    </tr>\n",
       "    <tr>\n",
       "      <th>2</th>\n",
       "      <td>2</td>\n",
       "      <td>2</td>\n",
       "      <td>0</td>\n",
       "      <td>The Notebook</td>\n",
       "      <td>Nicholas Sparks</td>\n",
       "      <td>1996</td>\n",
       "      <td>Warner Books</td>\n",
       "    </tr>\n",
       "    <tr>\n",
       "      <th>3</th>\n",
       "      <td>3</td>\n",
       "      <td>2</td>\n",
       "      <td>0</td>\n",
       "      <td>The Notebook</td>\n",
       "      <td>Nicholas Sparks</td>\n",
       "      <td>1996</td>\n",
       "      <td>Warner Books</td>\n",
       "    </tr>\n",
       "    <tr>\n",
       "      <th>4</th>\n",
       "      <td>4</td>\n",
       "      <td>3</td>\n",
       "      <td>3</td>\n",
       "      <td>Help!: Level 1</td>\n",
       "      <td>Philip Prowse</td>\n",
       "      <td>1999</td>\n",
       "      <td>Cambridge University Press</td>\n",
       "    </tr>\n",
       "  </tbody>\n",
       "</table>\n",
       "</div>"
      ],
      "text/plain": [
       "   ordered_user_id  ordered_book_id  rating            book_title  \\\n",
       "0                0                0       0  Flesh Tones: A Novel   \n",
       "1                1                1       5      Rites of Passage   \n",
       "2                2                2       0          The Notebook   \n",
       "3                3                2       0          The Notebook   \n",
       "4                4                3       3        Help!: Level 1   \n",
       "\n",
       "       book_author  year_of_publication                   publisher  \n",
       "0       M. J. Rose                 2002            Ballantine Books  \n",
       "1       Judith Rae                 2001                      Heinle  \n",
       "2  Nicholas Sparks                 1996                Warner Books  \n",
       "3  Nicholas Sparks                 1996                Warner Books  \n",
       "4    Philip Prowse                 1999  Cambridge University Press  "
      ]
     },
     "execution_count": 23,
     "metadata": {},
     "output_type": "execute_result"
    }
   ],
   "source": [
    "df_merged.head()"
   ]
  },
  {
   "cell_type": "markdown",
   "id": "b818be72",
   "metadata": {},
   "source": [
    "#### Building Model"
   ]
  },
  {
   "cell_type": "markdown",
   "id": "41468b6f",
   "metadata": {},
   "source": [
    "Split your data into two sets (training and testing)\n",
    "\n"
   ]
  },
  {
   "cell_type": "code",
   "execution_count": 24,
   "id": "59d109ea",
   "metadata": {},
   "outputs": [],
   "source": [
    "df_train,df_test=train_test_split(df_merged,test_size=0.2)"
   ]
  },
  {
   "cell_type": "markdown",
   "id": "23908cd4",
   "metadata": {},
   "source": [
    "Using Memory-Based Collaborative Filtering"
   ]
  },
  {
   "cell_type": "code",
   "execution_count": 26,
   "id": "be0af023",
   "metadata": {},
   "outputs": [],
   "source": [
    "# creating user-book matrix\n",
    "\n",
    "train_user_book_matrix=np.zeros((unique_user_count, unique_book_count))\n",
    "\n",
    "#indices of matrix are one behind.\n",
    "#Ex: Rating position of User 1, Book 1 would be at [0,0] in the matrix\n",
    "\n",
    "\n",
    "for df_train_row in df_train.itertuples():\n",
    "    \n",
    "    # Each df_train_row is one row of the training data: \n",
    "    # first row output: Pandas(Index=2156, ordered_user_id=109, ordered_book_id=1766, rating=0, book_title='Snow Country'...)\n",
    "    train_user_book_matrix[df_train_row[1]-1,df_train_row[2]-1]=df_train_row[3]\n",
    "\n",
    "    "
   ]
  },
  {
   "cell_type": "code",
   "execution_count": 27,
   "id": "5cb23706",
   "metadata": {},
   "outputs": [],
   "source": [
    "#test matrix\n",
    "test_user_book_matrix= np.zeros((unique_user_count, unique_book_count))\n",
    "for df_test_row in df_test.itertuples():\n",
    "    test_user_book_matrix[df_test_row[1]-1,df_test_row[2]-1]=df_test_row[3]"
   ]
  },
  {
   "cell_type": "code",
   "execution_count": 28,
   "id": "13f58984",
   "metadata": {},
   "outputs": [],
   "source": [
    "# calculating cosine similarity using Pairwise modeling, for User-based modeling as well as item-based modeling\n",
    "\n",
    "#User-based similarity\n",
    "user_sim=pairwise_distances(train_user_book_matrix,metric='cosine') #measures cosine of every pair of user vectors\n",
    "\n",
    "#item-based similarity\n",
    "item_sim=pairwise_distances(train_user_book_matrix.T,metric='cosine')# measures cosine of every pair of book vectors"
   ]
  },
  {
   "cell_type": "code",
   "execution_count": 29,
   "id": "9cb46621",
   "metadata": {},
   "outputs": [
    {
     "name": "stdout",
     "output_type": "stream",
     "text": [
      "[[0. 1. 1. ... 1. 1. 1.]\n",
      " [1. 0. 1. ... 1. 1. 1.]\n",
      " [1. 1. 0. ... 1. 1. 1.]\n",
      " ...\n",
      " [1. 1. 1. ... 0. 1. 1.]\n",
      " [1. 1. 1. ... 1. 0. 1.]\n",
      " [1. 1. 1. ... 1. 1. 0.]]\n",
      "shape of user_sim is  (828, 828)\n",
      "[[0. 1. 1. ... 1. 1. 1.]\n",
      " [1. 0. 1. ... 1. 1. 1.]\n",
      " [1. 1. 0. ... 1. 1. 1.]\n",
      " ...\n",
      " [1. 1. 1. ... 0. 1. 1.]\n",
      " [1. 1. 1. ... 1. 0. 1.]\n",
      " [1. 1. 1. ... 1. 1. 0.]]\n",
      "shape if every item_sim is (8051, 8051)\n"
     ]
    }
   ],
   "source": [
    "print(user_sim)\n",
    "print(\"shape of user_sim is \", user_sim.shape)\n",
    "print(item_sim)\n",
    "print(\"shape of every item_sim is\", item_sim.shape)"
   ]
  },
  {
   "cell_type": "markdown",
   "id": "df80839b",
   "metadata": {},
   "source": [
    "#### Model Predictions"
   ]
  },
  {
   "cell_type": "code",
   "execution_count": 35,
   "id": "e890b4d3",
   "metadata": {},
   "outputs": [],
   "source": [
    "def model_prediction(matrix,memory_type):\n",
    "    if memory_type==\"user\": # user-based recommendation\n",
    "        average_user_rating=matrix.mean(axis=1) # calculating average rating of each user\n",
    "        rating_diff=matrix-average_user_rating.reshape(-1,1)# subtracting each individual rating from their average\n",
    "        \n",
    "        #combining rating diff matrix with similarity matrix\n",
    "        prediction= average_user_rating.reshape(-1,1) + user_sim.dot(rating_diff)/np.array([np.abs(user_sim).sum(axis=1)]).T\n",
    "        \n",
    "        #item-based recommendation\n",
    "    elif memory_type==\"item\":\n",
    "        prediction=matrix.dot(item_sim)/np.array([np.abs(item_sim).sum(axis=1)])\n",
    "        \n",
    "    return prediction"
   ]
  },
  {
   "cell_type": "markdown",
   "id": "e80debef",
   "metadata": {},
   "source": [
    "#### Model Evaluation"
   ]
  },
  {
   "cell_type": "code",
   "execution_count": 36,
   "id": "233fadfb",
   "metadata": {},
   "outputs": [],
   "source": [
    "user_based_predictions=model_prediction(train_user_book_matrix,\"user\")\n",
    "item_based_predictions=model_prediction(train_user_book_matrix,\"item\")"
   ]
  },
  {
   "cell_type": "code",
   "execution_count": 38,
   "id": "f3c6bea7",
   "metadata": {},
   "outputs": [
    {
     "name": "stdout",
     "output_type": "stream",
     "text": [
      "[[-0.00139317 -0.00139317  0.0022344  ...  0.00948953 -0.00139317\n",
      "  -0.00139317]\n",
      " [ 0.00403098 -0.00201497  0.0016126  ...  0.00886774 -0.00201497\n",
      "  -0.00201497]\n",
      " [ 0.064223    0.05817517  0.06180387 ...  0.06906127  0.05817517\n",
      "   0.05817517]\n",
      " ...\n",
      " [ 0.00403098 -0.00201497  0.0016126  ...  0.00886774 -0.00201497\n",
      "  -0.00201497]\n",
      " [ 0.00403098 -0.00201497  0.0016126  ...  0.00886774 -0.00201497\n",
      "  -0.00201497]\n",
      " [ 0.00403098 -0.00201497  0.0016126  ...  0.00886774 -0.00201497\n",
      "  -0.00201497]]\n"
     ]
    }
   ],
   "source": [
    "print(user_based_predictions)"
   ]
  },
  {
   "cell_type": "code",
   "execution_count": 39,
   "id": "ac814b18",
   "metadata": {},
   "outputs": [
    {
     "name": "stdout",
     "output_type": "stream",
     "text": [
      "[[0.         0.00062112 0.0006212  ... 0.00062153 0.00062112 0.00062112]\n",
      " [0.         0.         0.         ... 0.         0.         0.        ]\n",
      " [0.06012422 0.06012422 0.06013169 ... 0.06016418 0.06012422 0.06012422]\n",
      " ...\n",
      " [0.         0.         0.         ... 0.         0.         0.        ]\n",
      " [0.         0.         0.         ... 0.         0.         0.        ]\n",
      " [0.         0.         0.         ... 0.         0.         0.        ]]\n"
     ]
    }
   ],
   "source": [
    "print(item_based_predictions)"
   ]
  },
  {
   "cell_type": "code",
   "execution_count": null,
   "id": "c3bc8de6",
   "metadata": {},
   "outputs": [],
   "source": []
  }
 ],
 "metadata": {
  "kernelspec": {
   "display_name": "Python 3 (ipykernel)",
   "language": "python",
   "name": "python3"
  },
  "language_info": {
   "codemirror_mode": {
    "name": "ipython",
    "version": 3
   },
   "file_extension": ".py",
   "mimetype": "text/x-python",
   "name": "python",
   "nbconvert_exporter": "python",
   "pygments_lexer": "ipython3",
   "version": "3.9.7"
  }
 },
 "nbformat": 4,
 "nbformat_minor": 5
}

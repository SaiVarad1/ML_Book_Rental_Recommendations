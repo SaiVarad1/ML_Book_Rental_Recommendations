{
 "cells": [
  {
   "cell_type": "code",
   "execution_count": 1,
   "id": "65d108ab",
   "metadata": {},
   "outputs": [],
   "source": [
    "#importing libraries\n",
    "import pandas as pd\n",
    "import numpy as np"
   ]
  },
  {
   "cell_type": "markdown",
   "id": "ecc7c0a5",
   "metadata": {},
   "source": [
    "####  Read the books dataset and explore it\n"
   ]
  },
  {
   "cell_type": "code",
   "execution_count": 10,
   "id": "53e3a23f",
   "metadata": {},
   "outputs": [
    {
     "data": {
      "text/html": [
       "<div>\n",
       "<style scoped>\n",
       "    .dataframe tbody tr th:only-of-type {\n",
       "        vertical-align: middle;\n",
       "    }\n",
       "\n",
       "    .dataframe tbody tr th {\n",
       "        vertical-align: top;\n",
       "    }\n",
       "\n",
       "    .dataframe thead th {\n",
       "        text-align: right;\n",
       "    }\n",
       "</style>\n",
       "<table border=\"1\" class=\"dataframe\">\n",
       "  <thead>\n",
       "    <tr style=\"text-align: right;\">\n",
       "      <th></th>\n",
       "      <th>isbn</th>\n",
       "      <th>book_title</th>\n",
       "      <th>book_author</th>\n",
       "      <th>year_of_publication</th>\n",
       "      <th>publisher</th>\n",
       "    </tr>\n",
       "  </thead>\n",
       "  <tbody>\n",
       "    <tr>\n",
       "      <th>0</th>\n",
       "      <td>312956762</td>\n",
       "      <td>Die Hard: With a Vengeance - A Novel</td>\n",
       "      <td>D. Chiel</td>\n",
       "      <td>1995</td>\n",
       "      <td>St Martins Pr</td>\n",
       "    </tr>\n",
       "    <tr>\n",
       "      <th>1</th>\n",
       "      <td>034545006X</td>\n",
       "      <td>The Taking</td>\n",
       "      <td>J. D. Landis</td>\n",
       "      <td>2003</td>\n",
       "      <td>Ballantine Books</td>\n",
       "    </tr>\n",
       "    <tr>\n",
       "      <th>2</th>\n",
       "      <td>1579651372</td>\n",
       "      <td>Ruskin's Rose: A Venetian Love Story</td>\n",
       "      <td>Mimma Balia</td>\n",
       "      <td>2000</td>\n",
       "      <td>Artisan Publishers</td>\n",
       "    </tr>\n",
       "    <tr>\n",
       "      <th>3</th>\n",
       "      <td>416652700</td>\n",
       "      <td>The Pooh cook book: inspired by \\Winnie-the-Po...</td>\n",
       "      <td>;Katie Stewart\"</td>\n",
       "      <td>1971</td>\n",
       "      <td>Methuen</td>\n",
       "    </tr>\n",
       "    <tr>\n",
       "      <th>4</th>\n",
       "      <td>1853114103</td>\n",
       "      <td>Lord Have Mercy</td>\n",
       "      <td>\\\\\"Ron\\\"\"</td>\n",
       "      <td>2001</td>\n",
       "      <td>Canterbury Press</td>\n",
       "    </tr>\n",
       "  </tbody>\n",
       "</table>\n",
       "</div>"
      ],
      "text/plain": [
       "         isbn                                         book_title   \n",
       "0   312956762               Die Hard: With a Vengeance - A Novel  \\\n",
       "1  034545006X                                         The Taking   \n",
       "2  1579651372               Ruskin's Rose: A Venetian Love Story   \n",
       "3   416652700  The Pooh cook book: inspired by \\Winnie-the-Po...   \n",
       "4  1853114103                                    Lord Have Mercy   \n",
       "\n",
       "       book_author  year_of_publication           publisher  \n",
       "0         D. Chiel                 1995       St Martins Pr  \n",
       "1     J. D. Landis                 2003    Ballantine Books  \n",
       "2      Mimma Balia                 2000  Artisan Publishers  \n",
       "3  ;Katie Stewart\"                 1971             Methuen  \n",
       "4        \\\\\"Ron\\\"\"                 2001    Canterbury Press  "
      ]
     },
     "execution_count": 10,
     "metadata": {},
     "output_type": "execute_result"
    }
   ],
   "source": [
    "#reading in csv files\n",
    "#note: cleaned csv files for records with improper encoding and rows that had incorrect data entries before loading in\n",
    "books.head()\n",
    "books=pd.read_csv(\"BX-Books.csv\", encoding=\"utf-8\") "
   ]
  },
  {
   "cell_type": "code",
   "execution_count": 3,
   "id": "ed7b9640",
   "metadata": {},
   "outputs": [
    {
     "data": {
      "text/html": [
       "<div>\n",
       "<style scoped>\n",
       "    .dataframe tbody tr th:only-of-type {\n",
       "        vertical-align: middle;\n",
       "    }\n",
       "\n",
       "    .dataframe tbody tr th {\n",
       "        vertical-align: top;\n",
       "    }\n",
       "\n",
       "    .dataframe thead th {\n",
       "        text-align: right;\n",
       "    }\n",
       "</style>\n",
       "<table border=\"1\" class=\"dataframe\">\n",
       "  <thead>\n",
       "    <tr style=\"text-align: right;\">\n",
       "      <th></th>\n",
       "      <th>isbn</th>\n",
       "      <th>book_title</th>\n",
       "      <th>book_author</th>\n",
       "      <th>year_of_publication</th>\n",
       "      <th>publisher</th>\n",
       "    </tr>\n",
       "  </thead>\n",
       "  <tbody>\n",
       "    <tr>\n",
       "      <th>271353</th>\n",
       "      <td>1573222623</td>\n",
       "      <td>Drinking Coffee Elsewhere (Today Show Book Clu...</td>\n",
       "      <td>ZZ Packer</td>\n",
       "      <td>2003</td>\n",
       "      <td>Riverhead Books</td>\n",
       "    </tr>\n",
       "    <tr>\n",
       "      <th>271354</th>\n",
       "      <td>1573222348</td>\n",
       "      <td>Drinking Coffee Elsewhere (Alex Awards (Awards))</td>\n",
       "      <td>ZZ Packer</td>\n",
       "      <td>2003</td>\n",
       "      <td>Riverhead Books</td>\n",
       "    </tr>\n",
       "    <tr>\n",
       "      <th>271355</th>\n",
       "      <td>1573223786</td>\n",
       "      <td>Drinking Coffee Elsewhere</td>\n",
       "      <td>Zz Packer</td>\n",
       "      <td>2004</td>\n",
       "      <td>Riverhead Books</td>\n",
       "    </tr>\n",
       "    <tr>\n",
       "      <th>271356</th>\n",
       "      <td>9627982032</td>\n",
       "      <td>The Credit Suisse Guide to Managing Your Perso...</td>\n",
       "      <td>NaN</td>\n",
       "      <td>1995</td>\n",
       "      <td>Edinburgh Financial Publishing</td>\n",
       "    </tr>\n",
       "    <tr>\n",
       "      <th>271357</th>\n",
       "      <td>751352497</td>\n",
       "      <td>A+ Quiz Masters:01 Earth</td>\n",
       "      <td>NaN</td>\n",
       "      <td>1999</td>\n",
       "      <td>Dorling Kindersley</td>\n",
       "    </tr>\n",
       "  </tbody>\n",
       "</table>\n",
       "</div>"
      ],
      "text/plain": [
       "              isbn                                         book_title   \n",
       "271353  1573222623  Drinking Coffee Elsewhere (Today Show Book Clu...  \\\n",
       "271354  1573222348   Drinking Coffee Elsewhere (Alex Awards (Awards))   \n",
       "271355  1573223786                          Drinking Coffee Elsewhere   \n",
       "271356  9627982032  The Credit Suisse Guide to Managing Your Perso...   \n",
       "271357   751352497                           A+ Quiz Masters:01 Earth   \n",
       "\n",
       "       book_author  year_of_publication                       publisher  \n",
       "271353   ZZ Packer                 2003                 Riverhead Books  \n",
       "271354   ZZ Packer                 2003                 Riverhead Books  \n",
       "271355   Zz Packer                 2004                 Riverhead Books  \n",
       "271356         NaN                 1995  Edinburgh Financial Publishing  \n",
       "271357         NaN                 1999              Dorling Kindersley  "
      ]
     },
     "execution_count": 3,
     "metadata": {},
     "output_type": "execute_result"
    }
   ],
   "source": [
    "books.tail()"
   ]
  },
  {
   "cell_type": "code",
   "execution_count": 4,
   "id": "534abd99",
   "metadata": {},
   "outputs": [
    {
     "name": "stdout",
     "output_type": "stream",
     "text": [
      "<class 'pandas.core.frame.DataFrame'>\n",
      "RangeIndex: 271358 entries, 0 to 271357\n",
      "Data columns (total 5 columns):\n",
      " #   Column               Non-Null Count   Dtype \n",
      "---  ------               --------------   ----- \n",
      " 0   isbn                 271358 non-null  object\n",
      " 1   book_title           271358 non-null  object\n",
      " 2   book_author          271356 non-null  object\n",
      " 3   year_of_publication  271358 non-null  int64 \n",
      " 4   publisher            271356 non-null  object\n",
      "dtypes: int64(1), object(4)\n",
      "memory usage: 10.4+ MB\n"
     ]
    }
   ],
   "source": [
    "books.info()"
   ]
  },
  {
   "cell_type": "markdown",
   "id": "ccec76ef",
   "metadata": {},
   "source": [
    "#### Clean up NaN values"
   ]
  },
  {
   "cell_type": "code",
   "execution_count": 5,
   "id": "fd06ddd4",
   "metadata": {},
   "outputs": [
    {
     "data": {
      "text/html": [
       "<div>\n",
       "<style scoped>\n",
       "    .dataframe tbody tr th:only-of-type {\n",
       "        vertical-align: middle;\n",
       "    }\n",
       "\n",
       "    .dataframe tbody tr th {\n",
       "        vertical-align: top;\n",
       "    }\n",
       "\n",
       "    .dataframe thead th {\n",
       "        text-align: right;\n",
       "    }\n",
       "</style>\n",
       "<table border=\"1\" class=\"dataframe\">\n",
       "  <thead>\n",
       "    <tr style=\"text-align: right;\">\n",
       "      <th></th>\n",
       "      <th>isbn</th>\n",
       "      <th>book_title</th>\n",
       "      <th>book_author</th>\n",
       "      <th>year_of_publication</th>\n",
       "      <th>publisher</th>\n",
       "    </tr>\n",
       "  </thead>\n",
       "  <tbody>\n",
       "    <tr>\n",
       "      <th>70531</th>\n",
       "      <td>193169656X</td>\n",
       "      <td>Tyrant Moon</td>\n",
       "      <td>Elaine Corvidae</td>\n",
       "      <td>2002</td>\n",
       "      <td>NaN</td>\n",
       "    </tr>\n",
       "    <tr>\n",
       "      <th>159822</th>\n",
       "      <td>1931696993</td>\n",
       "      <td>Finders Keepers</td>\n",
       "      <td>Linnea Sinclair</td>\n",
       "      <td>2001</td>\n",
       "      <td>NaN</td>\n",
       "    </tr>\n",
       "    <tr>\n",
       "      <th>271356</th>\n",
       "      <td>9627982032</td>\n",
       "      <td>The Credit Suisse Guide to Managing Your Perso...</td>\n",
       "      <td>NaN</td>\n",
       "      <td>1995</td>\n",
       "      <td>Edinburgh Financial Publishing</td>\n",
       "    </tr>\n",
       "    <tr>\n",
       "      <th>271357</th>\n",
       "      <td>751352497</td>\n",
       "      <td>A+ Quiz Masters:01 Earth</td>\n",
       "      <td>NaN</td>\n",
       "      <td>1999</td>\n",
       "      <td>Dorling Kindersley</td>\n",
       "    </tr>\n",
       "  </tbody>\n",
       "</table>\n",
       "</div>"
      ],
      "text/plain": [
       "              isbn                                         book_title   \n",
       "70531   193169656X                                        Tyrant Moon  \\\n",
       "159822  1931696993                                    Finders Keepers   \n",
       "271356  9627982032  The Credit Suisse Guide to Managing Your Perso...   \n",
       "271357   751352497                           A+ Quiz Masters:01 Earth   \n",
       "\n",
       "            book_author  year_of_publication                       publisher  \n",
       "70531   Elaine Corvidae                 2002                             NaN  \n",
       "159822  Linnea Sinclair                 2001                             NaN  \n",
       "271356              NaN                 1995  Edinburgh Financial Publishing  \n",
       "271357              NaN                 1999              Dorling Kindersley  "
      ]
     },
     "execution_count": 5,
     "metadata": {},
     "output_type": "execute_result"
    }
   ],
   "source": [
    "books[books.isna().any(axis=1)]# records containing null values"
   ]
  },
  {
   "cell_type": "code",
   "execution_count": 6,
   "id": "af0f3f1a",
   "metadata": {},
   "outputs": [],
   "source": [
    "#dropping records\n",
    "books=books.dropna()"
   ]
  },
  {
   "cell_type": "code",
   "execution_count": 9,
   "id": "bf1a9998",
   "metadata": {},
   "outputs": [
    {
     "data": {
      "text/plain": [
       "(271354, 5)"
      ]
     },
     "execution_count": 9,
     "metadata": {},
     "output_type": "execute_result"
    }
   ],
   "source": [
    "books.shape# 4 records have been dropped "
   ]
  },
  {
   "cell_type": "markdown",
   "id": "110260eb",
   "metadata": {},
   "source": [
    "#### Read the data where ratings are given by users\n",
    "\n"
   ]
  },
  {
   "cell_type": "code",
   "execution_count": 13,
   "id": "e6cd25c8",
   "metadata": {},
   "outputs": [],
   "source": [
    "ratings=pd.read_csv(\"BX-Book-Ratings.csv\",encoding=\"latin-1\")# utf-8 encoding doesn't work"
   ]
  },
  {
   "cell_type": "code",
   "execution_count": 26,
   "id": "66c1fbc1",
   "metadata": {},
   "outputs": [
    {
     "data": {
      "text/plain": [
       "278854"
      ]
     },
     "execution_count": 26,
     "metadata": {},
     "output_type": "execute_result"
    }
   ],
   "source": [
    "ratings.head()\n",
    "ratings.tail()\n",
    "ratings[\"user_id\"].max()"
   ]
  },
  {
   "cell_type": "code",
   "execution_count": 15,
   "id": "543bfc7c",
   "metadata": {},
   "outputs": [
    {
     "name": "stdout",
     "output_type": "stream",
     "text": [
      "<class 'pandas.core.frame.DataFrame'>\n",
      "RangeIndex: 1048575 entries, 0 to 1048574\n",
      "Data columns (total 3 columns):\n",
      " #   Column   Non-Null Count    Dtype \n",
      "---  ------   --------------    ----- \n",
      " 0   user_id  1048575 non-null  int64 \n",
      " 1   isbn     1048575 non-null  object\n",
      " 2   rating   1048575 non-null  int64 \n",
      "dtypes: int64(2), object(1)\n",
      "memory usage: 24.0+ MB\n"
     ]
    }
   ],
   "source": [
    "ratings.info()"
   ]
  },
  {
   "cell_type": "markdown",
   "id": "26b44ac4",
   "metadata": {},
   "source": [
    "#### Take a quick look at the number of unique users and books\n",
    "\n"
   ]
  },
  {
   "cell_type": "code",
   "execution_count": 18,
   "id": "1284ae25",
   "metadata": {},
   "outputs": [
    {
     "data": {
      "text/plain": [
       "(95513, 322102)"
      ]
     },
     "execution_count": 18,
     "metadata": {},
     "output_type": "execute_result"
    }
   ],
   "source": [
    "ratings[\"user_id\"].nunique(), ratings[\"isbn\"].nunique()"
   ]
  },
  {
   "cell_type": "markdown",
   "id": "91f6c29a",
   "metadata": {},
   "source": [
    "\n",
    "* Convert ISBN variables to numeric numbers in the correct order\n",
    "\n",
    "* Convert the user_id variable to numeric numbers in the correct order\n",
    "\n",
    "* Convert both user_id and ISBN to the ordered list, i.e., from 0...n-1\n"
   ]
  },
  {
   "cell_type": "code",
   "execution_count": 35,
   "id": "bee23383",
   "metadata": {},
   "outputs": [],
   "source": [
    "sorted_unique_isbn=sorted(books[\"isbn\"].unique())"
   ]
  },
  {
   "cell_type": "code",
   "execution_count": 21,
   "id": "b8b2826d",
   "metadata": {},
   "outputs": [
    {
     "name": "stderr",
     "output_type": "stream",
     "text": [
      "C:\\Users\\skv08\\AppData\\Local\\Temp/ipykernel_16648/2050316578.py:3: DtypeWarning: Columns (0) have mixed types. Specify dtype option on import or set low_memory=False.\n",
      "  users=pd.read_csv(\"BX-Users.csv\",encoding=\"latin-1\")\n"
     ]
    }
   ],
   "source": [
    "# importing users dataset\n",
    "\n",
    "users=pd.read_csv(\"BX-Users.csv\",encoding=\"latin-1\")"
   ]
  },
  {
   "cell_type": "code",
   "execution_count": 45,
   "id": "ef6bd71b",
   "metadata": {},
   "outputs": [
    {
     "name": "stdout",
     "output_type": "stream",
     "text": [
      "<class 'pandas.core.frame.DataFrame'>\n",
      "RangeIndex: 278859 entries, 0 to 278858\n",
      "Data columns (total 3 columns):\n",
      " #   Column    Non-Null Count   Dtype  \n",
      "---  ------    --------------   -----  \n",
      " 0   user_id   278859 non-null  object \n",
      " 1   Location  278858 non-null  object \n",
      " 2   Age       168096 non-null  float64\n",
      "dtypes: float64(1), object(2)\n",
      "memory usage: 6.4+ MB\n"
     ]
    }
   ],
   "source": [
    "users.info()"
   ]
  },
  {
   "cell_type": "code",
   "execution_count": 46,
   "id": "13030a1c",
   "metadata": {},
   "outputs": [],
   "source": [
    "user_ids=users[\"user_id\"].astype(str)\n",
    "sorted_unique_user_ids=sorted(user_ids)"
   ]
  },
  {
   "cell_type": "code",
   "execution_count": 47,
   "id": "ca2d648c",
   "metadata": {},
   "outputs": [
    {
     "data": {
      "text/plain": [
       "<enumerate at 0x20c92ded600>"
      ]
     },
     "execution_count": 47,
     "metadata": {},
     "output_type": "execute_result"
    }
   ],
   "source": [
    "# assigning unique values from 0 to n-1 for isbns and user_ids\n",
    "\n",
    "enumerate(sorted_unique_isbn)"
   ]
  },
  {
   "cell_type": "code",
   "execution_count": 66,
   "id": "2ff3178c",
   "metadata": {},
   "outputs": [],
   "source": [
    "# ordered lists:\n",
    "numeric_isbn={isbn:index for index, isbn in enumerate(sorted_unique_isbn)}\n",
    "numeric_user_ids={user_ids:index for index, user_ids in enumerate(sorted_unique_user_ids)}"
   ]
  },
  {
   "cell_type": "markdown",
   "id": "315d17f9",
   "metadata": {},
   "source": [
    "#### Build Matrix"
   ]
  },
  {
   "cell_type": "code",
   "execution_count": null,
   "id": "253a798e",
   "metadata": {},
   "outputs": [],
   "source": [
    "#Users are Rows, Books are Columns, Ratings are values\n",
    "\n"
   ]
  }
 ],
 "metadata": {
  "kernelspec": {
   "display_name": "Python 3 (ipykernel)",
   "language": "python",
   "name": "python3"
  },
  "language_info": {
   "codemirror_mode": {
    "name": "ipython",
    "version": 3
   },
   "file_extension": ".py",
   "mimetype": "text/x-python",
   "name": "python",
   "nbconvert_exporter": "python",
   "pygments_lexer": "ipython3",
   "version": "3.9.7"
  }
 },
 "nbformat": 4,
 "nbformat_minor": 5
}

{
 "cells": [
  {
   "cell_type": "code",
   "execution_count": 51,
   "id": "a0dc5a0c",
   "metadata": {},
   "outputs": [],
   "source": [
    "#importing libraries\n",
    "import pandas as pd\n",
    "import numpy as np\n",
    "from sklearn.model_selection import train_test_split_test_split"
   ]
  },
  {
   "cell_type": "markdown",
   "id": "ffae4b58",
   "metadata": {},
   "source": [
    "####  Read the books dataset and explore it\n"
   ]
  },
  {
   "cell_type": "code",
   "execution_count": 2,
   "id": "f1bba11b",
   "metadata": {},
   "outputs": [
    {
     "data": {
      "text/html": [
       "<div>\n",
       "<style scoped>\n",
       "    .dataframe tbody tr th:only-of-type {\n",
       "        vertical-align: middle;\n",
       "    }\n",
       "\n",
       "    .dataframe tbody tr th {\n",
       "        vertical-align: top;\n",
       "    }\n",
       "\n",
       "    .dataframe thead th {\n",
       "        text-align: right;\n",
       "    }\n",
       "</style>\n",
       "<table border=\"1\" class=\"dataframe\">\n",
       "  <thead>\n",
       "    <tr style=\"text-align: right;\">\n",
       "      <th></th>\n",
       "      <th>isbn</th>\n",
       "      <th>book_title</th>\n",
       "      <th>book_author</th>\n",
       "      <th>year_of_publication</th>\n",
       "      <th>publisher</th>\n",
       "    </tr>\n",
       "  </thead>\n",
       "  <tbody>\n",
       "    <tr>\n",
       "      <th>0</th>\n",
       "      <td>312956762</td>\n",
       "      <td>Die Hard: With a Vengeance - A Novel</td>\n",
       "      <td>D. Chiel</td>\n",
       "      <td>1995</td>\n",
       "      <td>St Martins Pr</td>\n",
       "    </tr>\n",
       "    <tr>\n",
       "      <th>1</th>\n",
       "      <td>034545006X</td>\n",
       "      <td>The Taking</td>\n",
       "      <td>J. D. Landis</td>\n",
       "      <td>2003</td>\n",
       "      <td>Ballantine Books</td>\n",
       "    </tr>\n",
       "    <tr>\n",
       "      <th>2</th>\n",
       "      <td>1579651372</td>\n",
       "      <td>Ruskin's Rose: A Venetian Love Story</td>\n",
       "      <td>Mimma Balia</td>\n",
       "      <td>2000</td>\n",
       "      <td>Artisan Publishers</td>\n",
       "    </tr>\n",
       "    <tr>\n",
       "      <th>3</th>\n",
       "      <td>416652700</td>\n",
       "      <td>The Pooh cook book: inspired by \\Winnie-the-Po...</td>\n",
       "      <td>;Katie Stewart\"</td>\n",
       "      <td>1971</td>\n",
       "      <td>Methuen</td>\n",
       "    </tr>\n",
       "    <tr>\n",
       "      <th>4</th>\n",
       "      <td>1853114103</td>\n",
       "      <td>Lord Have Mercy</td>\n",
       "      <td>\\\\\"Ron\\\"\"</td>\n",
       "      <td>2001</td>\n",
       "      <td>Canterbury Press</td>\n",
       "    </tr>\n",
       "  </tbody>\n",
       "</table>\n",
       "</div>"
      ],
      "text/plain": [
       "         isbn                                         book_title   \n",
       "0   312956762               Die Hard: With a Vengeance - A Novel  \\\n",
       "1  034545006X                                         The Taking   \n",
       "2  1579651372               Ruskin's Rose: A Venetian Love Story   \n",
       "3   416652700  The Pooh cook book: inspired by \\Winnie-the-Po...   \n",
       "4  1853114103                                    Lord Have Mercy   \n",
       "\n",
       "       book_author  year_of_publication           publisher  \n",
       "0         D. Chiel                 1995       St Martins Pr  \n",
       "1     J. D. Landis                 2003    Ballantine Books  \n",
       "2      Mimma Balia                 2000  Artisan Publishers  \n",
       "3  ;Katie Stewart\"                 1971             Methuen  \n",
       "4        \\\\\"Ron\\\"\"                 2001    Canterbury Press  "
      ]
     },
     "execution_count": 2,
     "metadata": {},
     "output_type": "execute_result"
    }
   ],
   "source": [
    "#reading in csv files\n",
    "books=pd.read_csv(\"BX-Books.csv\", encoding=\"utf-8\") \n",
    "books.head()"
   ]
  },
  {
   "cell_type": "code",
   "execution_count": 3,
   "id": "7e088647",
   "metadata": {},
   "outputs": [
    {
     "data": {
      "text/html": [
       "<div>\n",
       "<style scoped>\n",
       "    .dataframe tbody tr th:only-of-type {\n",
       "        vertical-align: middle;\n",
       "    }\n",
       "\n",
       "    .dataframe tbody tr th {\n",
       "        vertical-align: top;\n",
       "    }\n",
       "\n",
       "    .dataframe thead th {\n",
       "        text-align: right;\n",
       "    }\n",
       "</style>\n",
       "<table border=\"1\" class=\"dataframe\">\n",
       "  <thead>\n",
       "    <tr style=\"text-align: right;\">\n",
       "      <th></th>\n",
       "      <th>isbn</th>\n",
       "      <th>book_title</th>\n",
       "      <th>book_author</th>\n",
       "      <th>year_of_publication</th>\n",
       "      <th>publisher</th>\n",
       "    </tr>\n",
       "  </thead>\n",
       "  <tbody>\n",
       "    <tr>\n",
       "      <th>271353</th>\n",
       "      <td>1573222623</td>\n",
       "      <td>Drinking Coffee Elsewhere (Today Show Book Clu...</td>\n",
       "      <td>ZZ Packer</td>\n",
       "      <td>2003</td>\n",
       "      <td>Riverhead Books</td>\n",
       "    </tr>\n",
       "    <tr>\n",
       "      <th>271354</th>\n",
       "      <td>1573222348</td>\n",
       "      <td>Drinking Coffee Elsewhere (Alex Awards (Awards))</td>\n",
       "      <td>ZZ Packer</td>\n",
       "      <td>2003</td>\n",
       "      <td>Riverhead Books</td>\n",
       "    </tr>\n",
       "    <tr>\n",
       "      <th>271355</th>\n",
       "      <td>1573223786</td>\n",
       "      <td>Drinking Coffee Elsewhere</td>\n",
       "      <td>Zz Packer</td>\n",
       "      <td>2004</td>\n",
       "      <td>Riverhead Books</td>\n",
       "    </tr>\n",
       "    <tr>\n",
       "      <th>271356</th>\n",
       "      <td>9627982032</td>\n",
       "      <td>The Credit Suisse Guide to Managing Your Perso...</td>\n",
       "      <td>NaN</td>\n",
       "      <td>1995</td>\n",
       "      <td>Edinburgh Financial Publishing</td>\n",
       "    </tr>\n",
       "    <tr>\n",
       "      <th>271357</th>\n",
       "      <td>751352497</td>\n",
       "      <td>A+ Quiz Masters:01 Earth</td>\n",
       "      <td>NaN</td>\n",
       "      <td>1999</td>\n",
       "      <td>Dorling Kindersley</td>\n",
       "    </tr>\n",
       "  </tbody>\n",
       "</table>\n",
       "</div>"
      ],
      "text/plain": [
       "              isbn                                         book_title   \n",
       "271353  1573222623  Drinking Coffee Elsewhere (Today Show Book Clu...  \\\n",
       "271354  1573222348   Drinking Coffee Elsewhere (Alex Awards (Awards))   \n",
       "271355  1573223786                          Drinking Coffee Elsewhere   \n",
       "271356  9627982032  The Credit Suisse Guide to Managing Your Perso...   \n",
       "271357   751352497                           A+ Quiz Masters:01 Earth   \n",
       "\n",
       "       book_author  year_of_publication                       publisher  \n",
       "271353   ZZ Packer                 2003                 Riverhead Books  \n",
       "271354   ZZ Packer                 2003                 Riverhead Books  \n",
       "271355   Zz Packer                 2004                 Riverhead Books  \n",
       "271356         NaN                 1995  Edinburgh Financial Publishing  \n",
       "271357         NaN                 1999              Dorling Kindersley  "
      ]
     },
     "execution_count": 3,
     "metadata": {},
     "output_type": "execute_result"
    }
   ],
   "source": [
    "books.tail()"
   ]
  },
  {
   "cell_type": "code",
   "execution_count": 4,
   "id": "ebea8849",
   "metadata": {},
   "outputs": [
    {
     "name": "stdout",
     "output_type": "stream",
     "text": [
      "<class 'pandas.core.frame.DataFrame'>\n",
      "RangeIndex: 271358 entries, 0 to 271357\n",
      "Data columns (total 5 columns):\n",
      " #   Column               Non-Null Count   Dtype \n",
      "---  ------               --------------   ----- \n",
      " 0   isbn                 271358 non-null  object\n",
      " 1   book_title           271358 non-null  object\n",
      " 2   book_author          271356 non-null  object\n",
      " 3   year_of_publication  271358 non-null  int64 \n",
      " 4   publisher            271356 non-null  object\n",
      "dtypes: int64(1), object(4)\n",
      "memory usage: 10.4+ MB\n"
     ]
    }
   ],
   "source": [
    "books.info()"
   ]
  },
  {
   "cell_type": "markdown",
   "id": "1800260e",
   "metadata": {},
   "source": [
    "#### Clean up NaN values"
   ]
  },
  {
   "cell_type": "code",
   "execution_count": 5,
   "id": "abcc49ef",
   "metadata": {},
   "outputs": [
    {
     "data": {
      "text/html": [
       "<div>\n",
       "<style scoped>\n",
       "    .dataframe tbody tr th:only-of-type {\n",
       "        vertical-align: middle;\n",
       "    }\n",
       "\n",
       "    .dataframe tbody tr th {\n",
       "        vertical-align: top;\n",
       "    }\n",
       "\n",
       "    .dataframe thead th {\n",
       "        text-align: right;\n",
       "    }\n",
       "</style>\n",
       "<table border=\"1\" class=\"dataframe\">\n",
       "  <thead>\n",
       "    <tr style=\"text-align: right;\">\n",
       "      <th></th>\n",
       "      <th>isbn</th>\n",
       "      <th>book_title</th>\n",
       "      <th>book_author</th>\n",
       "      <th>year_of_publication</th>\n",
       "      <th>publisher</th>\n",
       "    </tr>\n",
       "  </thead>\n",
       "  <tbody>\n",
       "    <tr>\n",
       "      <th>70531</th>\n",
       "      <td>193169656X</td>\n",
       "      <td>Tyrant Moon</td>\n",
       "      <td>Elaine Corvidae</td>\n",
       "      <td>2002</td>\n",
       "      <td>NaN</td>\n",
       "    </tr>\n",
       "    <tr>\n",
       "      <th>159822</th>\n",
       "      <td>1931696993</td>\n",
       "      <td>Finders Keepers</td>\n",
       "      <td>Linnea Sinclair</td>\n",
       "      <td>2001</td>\n",
       "      <td>NaN</td>\n",
       "    </tr>\n",
       "    <tr>\n",
       "      <th>271356</th>\n",
       "      <td>9627982032</td>\n",
       "      <td>The Credit Suisse Guide to Managing Your Perso...</td>\n",
       "      <td>NaN</td>\n",
       "      <td>1995</td>\n",
       "      <td>Edinburgh Financial Publishing</td>\n",
       "    </tr>\n",
       "    <tr>\n",
       "      <th>271357</th>\n",
       "      <td>751352497</td>\n",
       "      <td>A+ Quiz Masters:01 Earth</td>\n",
       "      <td>NaN</td>\n",
       "      <td>1999</td>\n",
       "      <td>Dorling Kindersley</td>\n",
       "    </tr>\n",
       "  </tbody>\n",
       "</table>\n",
       "</div>"
      ],
      "text/plain": [
       "              isbn                                         book_title   \n",
       "70531   193169656X                                        Tyrant Moon  \\\n",
       "159822  1931696993                                    Finders Keepers   \n",
       "271356  9627982032  The Credit Suisse Guide to Managing Your Perso...   \n",
       "271357   751352497                           A+ Quiz Masters:01 Earth   \n",
       "\n",
       "            book_author  year_of_publication                       publisher  \n",
       "70531   Elaine Corvidae                 2002                             NaN  \n",
       "159822  Linnea Sinclair                 2001                             NaN  \n",
       "271356              NaN                 1995  Edinburgh Financial Publishing  \n",
       "271357              NaN                 1999              Dorling Kindersley  "
      ]
     },
     "execution_count": 5,
     "metadata": {},
     "output_type": "execute_result"
    }
   ],
   "source": [
    "books[books.isna().any(axis=1)]# records containing null values"
   ]
  },
  {
   "cell_type": "code",
   "execution_count": 6,
   "id": "d51058b8",
   "metadata": {},
   "outputs": [],
   "source": [
    "#dropping records\n",
    "books=books.dropna()"
   ]
  },
  {
   "cell_type": "code",
   "execution_count": 7,
   "id": "26acaaa8",
   "metadata": {},
   "outputs": [
    {
     "data": {
      "text/plain": [
       "(271354, 5)"
      ]
     },
     "execution_count": 7,
     "metadata": {},
     "output_type": "execute_result"
    }
   ],
   "source": [
    "books.shape# 4 records have been dropped "
   ]
  },
  {
   "cell_type": "markdown",
   "id": "64512714",
   "metadata": {},
   "source": [
    "#### Read the data where ratings are given by users\n",
    "\n"
   ]
  },
  {
   "cell_type": "code",
   "execution_count": 8,
   "id": "8b5a3ae4",
   "metadata": {},
   "outputs": [],
   "source": [
    "ratings=pd.read_csv(\"BX-Book-Ratings.csv\",encoding=\"latin-1\")# utf-8 encoding doesn't work"
   ]
  },
  {
   "cell_type": "code",
   "execution_count": 9,
   "id": "4d31c076",
   "metadata": {},
   "outputs": [
    {
     "data": {
      "text/html": [
       "<div>\n",
       "<style scoped>\n",
       "    .dataframe tbody tr th:only-of-type {\n",
       "        vertical-align: middle;\n",
       "    }\n",
       "\n",
       "    .dataframe tbody tr th {\n",
       "        vertical-align: top;\n",
       "    }\n",
       "\n",
       "    .dataframe thead th {\n",
       "        text-align: right;\n",
       "    }\n",
       "</style>\n",
       "<table border=\"1\" class=\"dataframe\">\n",
       "  <thead>\n",
       "    <tr style=\"text-align: right;\">\n",
       "      <th></th>\n",
       "      <th>user_id</th>\n",
       "      <th>isbn</th>\n",
       "      <th>rating</th>\n",
       "    </tr>\n",
       "  </thead>\n",
       "  <tbody>\n",
       "    <tr>\n",
       "      <th>0</th>\n",
       "      <td>276725</td>\n",
       "      <td>034545104X</td>\n",
       "      <td>0</td>\n",
       "    </tr>\n",
       "    <tr>\n",
       "      <th>1</th>\n",
       "      <td>276726</td>\n",
       "      <td>155061224</td>\n",
       "      <td>5</td>\n",
       "    </tr>\n",
       "    <tr>\n",
       "      <th>2</th>\n",
       "      <td>276727</td>\n",
       "      <td>446520802</td>\n",
       "      <td>0</td>\n",
       "    </tr>\n",
       "    <tr>\n",
       "      <th>3</th>\n",
       "      <td>276729</td>\n",
       "      <td>052165615X</td>\n",
       "      <td>3</td>\n",
       "    </tr>\n",
       "    <tr>\n",
       "      <th>4</th>\n",
       "      <td>276729</td>\n",
       "      <td>521795028</td>\n",
       "      <td>6</td>\n",
       "    </tr>\n",
       "  </tbody>\n",
       "</table>\n",
       "</div>"
      ],
      "text/plain": [
       "   user_id        isbn  rating\n",
       "0   276725  034545104X       0\n",
       "1   276726   155061224       5\n",
       "2   276727   446520802       0\n",
       "3   276729  052165615X       3\n",
       "4   276729   521795028       6"
      ]
     },
     "execution_count": 9,
     "metadata": {},
     "output_type": "execute_result"
    }
   ],
   "source": [
    "ratings.head()\n"
   ]
  },
  {
   "cell_type": "code",
   "execution_count": 10,
   "id": "89ad902c",
   "metadata": {},
   "outputs": [
    {
     "name": "stdout",
     "output_type": "stream",
     "text": [
      "<class 'pandas.core.frame.DataFrame'>\n",
      "RangeIndex: 1048575 entries, 0 to 1048574\n",
      "Data columns (total 3 columns):\n",
      " #   Column   Non-Null Count    Dtype \n",
      "---  ------   --------------    ----- \n",
      " 0   user_id  1048575 non-null  int64 \n",
      " 1   isbn     1048575 non-null  object\n",
      " 2   rating   1048575 non-null  int64 \n",
      "dtypes: int64(2), object(1)\n",
      "memory usage: 24.0+ MB\n"
     ]
    }
   ],
   "source": [
    "ratings.info()"
   ]
  },
  {
   "cell_type": "code",
   "execution_count": 13,
   "id": "efdcb515",
   "metadata": {},
   "outputs": [],
   "source": [
    "#taking the first 10,000 rows of the dataset because of Out of Memory error\n",
    "\n",
    "ratings=ratings[0:10000]\n"
   ]
  },
  {
   "cell_type": "code",
   "execution_count": 17,
   "id": "6e176c01",
   "metadata": {},
   "outputs": [
    {
     "data": {
      "text/html": [
       "<div>\n",
       "<style scoped>\n",
       "    .dataframe tbody tr th:only-of-type {\n",
       "        vertical-align: middle;\n",
       "    }\n",
       "\n",
       "    .dataframe tbody tr th {\n",
       "        vertical-align: top;\n",
       "    }\n",
       "\n",
       "    .dataframe thead th {\n",
       "        text-align: right;\n",
       "    }\n",
       "</style>\n",
       "<table border=\"1\" class=\"dataframe\">\n",
       "  <thead>\n",
       "    <tr style=\"text-align: right;\">\n",
       "      <th></th>\n",
       "      <th>user_id</th>\n",
       "      <th>isbn</th>\n",
       "      <th>rating</th>\n",
       "    </tr>\n",
       "  </thead>\n",
       "  <tbody>\n",
       "    <tr>\n",
       "      <th>0</th>\n",
       "      <td>276725</td>\n",
       "      <td>034545104X</td>\n",
       "      <td>0</td>\n",
       "    </tr>\n",
       "    <tr>\n",
       "      <th>1</th>\n",
       "      <td>276726</td>\n",
       "      <td>155061224</td>\n",
       "      <td>5</td>\n",
       "    </tr>\n",
       "    <tr>\n",
       "      <th>2</th>\n",
       "      <td>276727</td>\n",
       "      <td>446520802</td>\n",
       "      <td>0</td>\n",
       "    </tr>\n",
       "    <tr>\n",
       "      <th>3</th>\n",
       "      <td>276729</td>\n",
       "      <td>052165615X</td>\n",
       "      <td>3</td>\n",
       "    </tr>\n",
       "    <tr>\n",
       "      <th>4</th>\n",
       "      <td>276729</td>\n",
       "      <td>521795028</td>\n",
       "      <td>6</td>\n",
       "    </tr>\n",
       "  </tbody>\n",
       "</table>\n",
       "</div>"
      ],
      "text/plain": [
       "   user_id        isbn  rating\n",
       "0   276725  034545104X       0\n",
       "1   276726   155061224       5\n",
       "2   276727   446520802       0\n",
       "3   276729  052165615X       3\n",
       "4   276729   521795028       6"
      ]
     },
     "execution_count": 17,
     "metadata": {},
     "output_type": "execute_result"
    }
   ],
   "source": [
    "ratings.head()"
   ]
  },
  {
   "cell_type": "code",
   "execution_count": 18,
   "id": "dc8a6ccc",
   "metadata": {},
   "outputs": [],
   "source": [
    "#merging with books dataset \n",
    "df_merged=pd.merge(ratings, books, on='isbn')"
   ]
  },
  {
   "cell_type": "code",
   "execution_count": 20,
   "id": "fde96565",
   "metadata": {
    "scrolled": true
   },
   "outputs": [
    {
     "data": {
      "text/html": [
       "<div>\n",
       "<style scoped>\n",
       "    .dataframe tbody tr th:only-of-type {\n",
       "        vertical-align: middle;\n",
       "    }\n",
       "\n",
       "    .dataframe tbody tr th {\n",
       "        vertical-align: top;\n",
       "    }\n",
       "\n",
       "    .dataframe thead th {\n",
       "        text-align: right;\n",
       "    }\n",
       "</style>\n",
       "<table border=\"1\" class=\"dataframe\">\n",
       "  <thead>\n",
       "    <tr style=\"text-align: right;\">\n",
       "      <th></th>\n",
       "      <th>user_id</th>\n",
       "      <th>isbn</th>\n",
       "      <th>rating</th>\n",
       "      <th>book_title</th>\n",
       "      <th>book_author</th>\n",
       "      <th>year_of_publication</th>\n",
       "      <th>publisher</th>\n",
       "    </tr>\n",
       "  </thead>\n",
       "  <tbody>\n",
       "    <tr>\n",
       "      <th>0</th>\n",
       "      <td>276725</td>\n",
       "      <td>034545104X</td>\n",
       "      <td>0</td>\n",
       "      <td>Flesh Tones: A Novel</td>\n",
       "      <td>M. J. Rose</td>\n",
       "      <td>2002</td>\n",
       "      <td>Ballantine Books</td>\n",
       "    </tr>\n",
       "    <tr>\n",
       "      <th>1</th>\n",
       "      <td>276726</td>\n",
       "      <td>155061224</td>\n",
       "      <td>5</td>\n",
       "      <td>Rites of Passage</td>\n",
       "      <td>Judith Rae</td>\n",
       "      <td>2001</td>\n",
       "      <td>Heinle</td>\n",
       "    </tr>\n",
       "    <tr>\n",
       "      <th>2</th>\n",
       "      <td>276727</td>\n",
       "      <td>446520802</td>\n",
       "      <td>0</td>\n",
       "      <td>The Notebook</td>\n",
       "      <td>Nicholas Sparks</td>\n",
       "      <td>1996</td>\n",
       "      <td>Warner Books</td>\n",
       "    </tr>\n",
       "    <tr>\n",
       "      <th>3</th>\n",
       "      <td>278418</td>\n",
       "      <td>446520802</td>\n",
       "      <td>0</td>\n",
       "      <td>The Notebook</td>\n",
       "      <td>Nicholas Sparks</td>\n",
       "      <td>1996</td>\n",
       "      <td>Warner Books</td>\n",
       "    </tr>\n",
       "    <tr>\n",
       "      <th>4</th>\n",
       "      <td>276729</td>\n",
       "      <td>052165615X</td>\n",
       "      <td>3</td>\n",
       "      <td>Help!: Level 1</td>\n",
       "      <td>Philip Prowse</td>\n",
       "      <td>1999</td>\n",
       "      <td>Cambridge University Press</td>\n",
       "    </tr>\n",
       "  </tbody>\n",
       "</table>\n",
       "</div>"
      ],
      "text/plain": [
       "   user_id        isbn  rating            book_title      book_author   \n",
       "0   276725  034545104X       0  Flesh Tones: A Novel       M. J. Rose  \\\n",
       "1   276726   155061224       5      Rites of Passage       Judith Rae   \n",
       "2   276727   446520802       0          The Notebook  Nicholas Sparks   \n",
       "3   278418   446520802       0          The Notebook  Nicholas Sparks   \n",
       "4   276729  052165615X       3        Help!: Level 1    Philip Prowse   \n",
       "\n",
       "   year_of_publication                   publisher  \n",
       "0                 2002            Ballantine Books  \n",
       "1                 2001                      Heinle  \n",
       "2                 1996                Warner Books  \n",
       "3                 1996                Warner Books  \n",
       "4                 1999  Cambridge University Press  "
      ]
     },
     "execution_count": 20,
     "metadata": {},
     "output_type": "execute_result"
    }
   ],
   "source": [
    "df_merged.head()"
   ]
  },
  {
   "cell_type": "code",
   "execution_count": 21,
   "id": "fd5f8c9c",
   "metadata": {},
   "outputs": [
    {
     "data": {
      "text/plain": [
       "(828, 8051)"
      ]
     },
     "execution_count": 21,
     "metadata": {},
     "output_type": "execute_result"
    }
   ],
   "source": [
    "df_merged.user_id.nunique(), df_merged.isbn.nunique()# unique users and books"
   ]
  },
  {
   "cell_type": "markdown",
   "id": "67191886",
   "metadata": {},
   "source": [
    "\n",
    "* Convert ISBN variables to numeric numbers in the correct order\n",
    "\n",
    "* Convert the user_id variable to numeric numbers in the correct order\n",
    "\n",
    "* Convert both user_id and ISBN to the ordered list, i.e., from 0...n-1\n"
   ]
  },
  {
   "cell_type": "code",
   "execution_count": 22,
   "id": "c651b00b",
   "metadata": {},
   "outputs": [],
   "source": [
    "unique_users_list=df_merged.user_id.unique()\n",
    "unique_books_list=df_merged.isbn.unique()\n"
   ]
  },
  {
   "cell_type": "code",
   "execution_count": 28,
   "id": "acd53132",
   "metadata": {},
   "outputs": [],
   "source": [
    "#creating dictionary to map sequential values from 0 to n-1\n",
    "unique_users_dict={user:index for index,user in enumerate(unique_users_list) }\n",
    "unique_books_dict={book:index for index,book in enumerate(unique_books_list)}"
   ]
  },
  {
   "cell_type": "code",
   "execution_count": 37,
   "id": "671aeb30",
   "metadata": {},
   "outputs": [
    {
     "data": {
      "text/plain": [
       "1"
      ]
     },
     "execution_count": 37,
     "metadata": {},
     "output_type": "execute_result"
    }
   ],
   "source": [
    "unique_users_dict[276726]"
   ]
  },
  {
   "cell_type": "code",
   "execution_count": 45,
   "id": "713627b9",
   "metadata": {},
   "outputs": [],
   "source": [
    "#mapping function\n",
    "def mapping_users(key):\n",
    "    return unique_users_dict[key]\n",
    "def mapping_books(key):\n",
    "    return unique_books_dict[key]\n",
    "    "
   ]
  },
  {
   "cell_type": "code",
   "execution_count": 46,
   "id": "aea2d415",
   "metadata": {},
   "outputs": [],
   "source": [
    "# adding new index values to dataframe\n",
    "df_merged['ordered_user_id']=df_merged['user_id'].apply(mapping_users)\n",
    "df_merged['ordered_book_id']=df_merged['isbn'].apply(mapping_books)"
   ]
  },
  {
   "cell_type": "code",
   "execution_count": 48,
   "id": "5e394af6",
   "metadata": {},
   "outputs": [
    {
     "data": {
      "text/html": [
       "<div>\n",
       "<style scoped>\n",
       "    .dataframe tbody tr th:only-of-type {\n",
       "        vertical-align: middle;\n",
       "    }\n",
       "\n",
       "    .dataframe tbody tr th {\n",
       "        vertical-align: top;\n",
       "    }\n",
       "\n",
       "    .dataframe thead th {\n",
       "        text-align: right;\n",
       "    }\n",
       "</style>\n",
       "<table border=\"1\" class=\"dataframe\">\n",
       "  <thead>\n",
       "    <tr style=\"text-align: right;\">\n",
       "      <th></th>\n",
       "      <th>user_id</th>\n",
       "      <th>isbn</th>\n",
       "      <th>rating</th>\n",
       "      <th>book_title</th>\n",
       "      <th>book_author</th>\n",
       "      <th>year_of_publication</th>\n",
       "      <th>publisher</th>\n",
       "      <th>ordered_user_id</th>\n",
       "      <th>ordered_book_id</th>\n",
       "    </tr>\n",
       "  </thead>\n",
       "  <tbody>\n",
       "    <tr>\n",
       "      <th>0</th>\n",
       "      <td>276725</td>\n",
       "      <td>034545104X</td>\n",
       "      <td>0</td>\n",
       "      <td>Flesh Tones: A Novel</td>\n",
       "      <td>M. J. Rose</td>\n",
       "      <td>2002</td>\n",
       "      <td>Ballantine Books</td>\n",
       "      <td>0</td>\n",
       "      <td>0</td>\n",
       "    </tr>\n",
       "    <tr>\n",
       "      <th>1</th>\n",
       "      <td>276726</td>\n",
       "      <td>155061224</td>\n",
       "      <td>5</td>\n",
       "      <td>Rites of Passage</td>\n",
       "      <td>Judith Rae</td>\n",
       "      <td>2001</td>\n",
       "      <td>Heinle</td>\n",
       "      <td>1</td>\n",
       "      <td>1</td>\n",
       "    </tr>\n",
       "    <tr>\n",
       "      <th>2</th>\n",
       "      <td>276727</td>\n",
       "      <td>446520802</td>\n",
       "      <td>0</td>\n",
       "      <td>The Notebook</td>\n",
       "      <td>Nicholas Sparks</td>\n",
       "      <td>1996</td>\n",
       "      <td>Warner Books</td>\n",
       "      <td>2</td>\n",
       "      <td>2</td>\n",
       "    </tr>\n",
       "    <tr>\n",
       "      <th>3</th>\n",
       "      <td>278418</td>\n",
       "      <td>446520802</td>\n",
       "      <td>0</td>\n",
       "      <td>The Notebook</td>\n",
       "      <td>Nicholas Sparks</td>\n",
       "      <td>1996</td>\n",
       "      <td>Warner Books</td>\n",
       "      <td>3</td>\n",
       "      <td>2</td>\n",
       "    </tr>\n",
       "    <tr>\n",
       "      <th>4</th>\n",
       "      <td>276729</td>\n",
       "      <td>052165615X</td>\n",
       "      <td>3</td>\n",
       "      <td>Help!: Level 1</td>\n",
       "      <td>Philip Prowse</td>\n",
       "      <td>1999</td>\n",
       "      <td>Cambridge University Press</td>\n",
       "      <td>4</td>\n",
       "      <td>3</td>\n",
       "    </tr>\n",
       "  </tbody>\n",
       "</table>\n",
       "</div>"
      ],
      "text/plain": [
       "   user_id        isbn  rating            book_title      book_author   \n",
       "0   276725  034545104X       0  Flesh Tones: A Novel       M. J. Rose  \\\n",
       "1   276726   155061224       5      Rites of Passage       Judith Rae   \n",
       "2   276727   446520802       0          The Notebook  Nicholas Sparks   \n",
       "3   278418   446520802       0          The Notebook  Nicholas Sparks   \n",
       "4   276729  052165615X       3        Help!: Level 1    Philip Prowse   \n",
       "\n",
       "   year_of_publication                   publisher  ordered_user_id   \n",
       "0                 2002            Ballantine Books                0  \\\n",
       "1                 2001                      Heinle                1   \n",
       "2                 1996                Warner Books                2   \n",
       "3                 1996                Warner Books                3   \n",
       "4                 1999  Cambridge University Press                4   \n",
       "\n",
       "   ordered_book_id  \n",
       "0                0  \n",
       "1                1  \n",
       "2                2  \n",
       "3                2  \n",
       "4                3  "
      ]
     },
     "execution_count": 48,
     "metadata": {},
     "output_type": "execute_result"
    }
   ],
   "source": [
    "df_merged.head()"
   ]
  },
  {
   "cell_type": "markdown",
   "id": "175af30e",
   "metadata": {},
   "source": [
    "Re-index the columns to build a matrix"
   ]
  },
  {
   "cell_type": "code",
   "execution_count": 49,
   "id": "5fe226bc",
   "metadata": {},
   "outputs": [],
   "source": [
    "df_merged=df_merged.reindex(columns=['ordered_user_id','ordered_book_id','rating','book_title','book_author','year_of_publication','publisher'])"
   ]
  },
  {
   "cell_type": "code",
   "execution_count": 50,
   "id": "12d09c7f",
   "metadata": {},
   "outputs": [
    {
     "data": {
      "text/html": [
       "<div>\n",
       "<style scoped>\n",
       "    .dataframe tbody tr th:only-of-type {\n",
       "        vertical-align: middle;\n",
       "    }\n",
       "\n",
       "    .dataframe tbody tr th {\n",
       "        vertical-align: top;\n",
       "    }\n",
       "\n",
       "    .dataframe thead th {\n",
       "        text-align: right;\n",
       "    }\n",
       "</style>\n",
       "<table border=\"1\" class=\"dataframe\">\n",
       "  <thead>\n",
       "    <tr style=\"text-align: right;\">\n",
       "      <th></th>\n",
       "      <th>ordered_user_id</th>\n",
       "      <th>ordered_book_id</th>\n",
       "      <th>rating</th>\n",
       "      <th>book_title</th>\n",
       "      <th>book_author</th>\n",
       "      <th>year_of_publication</th>\n",
       "      <th>publisher</th>\n",
       "    </tr>\n",
       "  </thead>\n",
       "  <tbody>\n",
       "    <tr>\n",
       "      <th>0</th>\n",
       "      <td>0</td>\n",
       "      <td>0</td>\n",
       "      <td>0</td>\n",
       "      <td>Flesh Tones: A Novel</td>\n",
       "      <td>M. J. Rose</td>\n",
       "      <td>2002</td>\n",
       "      <td>Ballantine Books</td>\n",
       "    </tr>\n",
       "    <tr>\n",
       "      <th>1</th>\n",
       "      <td>1</td>\n",
       "      <td>1</td>\n",
       "      <td>5</td>\n",
       "      <td>Rites of Passage</td>\n",
       "      <td>Judith Rae</td>\n",
       "      <td>2001</td>\n",
       "      <td>Heinle</td>\n",
       "    </tr>\n",
       "    <tr>\n",
       "      <th>2</th>\n",
       "      <td>2</td>\n",
       "      <td>2</td>\n",
       "      <td>0</td>\n",
       "      <td>The Notebook</td>\n",
       "      <td>Nicholas Sparks</td>\n",
       "      <td>1996</td>\n",
       "      <td>Warner Books</td>\n",
       "    </tr>\n",
       "    <tr>\n",
       "      <th>3</th>\n",
       "      <td>3</td>\n",
       "      <td>2</td>\n",
       "      <td>0</td>\n",
       "      <td>The Notebook</td>\n",
       "      <td>Nicholas Sparks</td>\n",
       "      <td>1996</td>\n",
       "      <td>Warner Books</td>\n",
       "    </tr>\n",
       "    <tr>\n",
       "      <th>4</th>\n",
       "      <td>4</td>\n",
       "      <td>3</td>\n",
       "      <td>3</td>\n",
       "      <td>Help!: Level 1</td>\n",
       "      <td>Philip Prowse</td>\n",
       "      <td>1999</td>\n",
       "      <td>Cambridge University Press</td>\n",
       "    </tr>\n",
       "  </tbody>\n",
       "</table>\n",
       "</div>"
      ],
      "text/plain": [
       "   ordered_user_id  ordered_book_id  rating            book_title   \n",
       "0                0                0       0  Flesh Tones: A Novel  \\\n",
       "1                1                1       5      Rites of Passage   \n",
       "2                2                2       0          The Notebook   \n",
       "3                3                2       0          The Notebook   \n",
       "4                4                3       3        Help!: Level 1   \n",
       "\n",
       "       book_author  year_of_publication                   publisher  \n",
       "0       M. J. Rose                 2002            Ballantine Books  \n",
       "1       Judith Rae                 2001                      Heinle  \n",
       "2  Nicholas Sparks                 1996                Warner Books  \n",
       "3  Nicholas Sparks                 1996                Warner Books  \n",
       "4    Philip Prowse                 1999  Cambridge University Press  "
      ]
     },
     "execution_count": 50,
     "metadata": {},
     "output_type": "execute_result"
    }
   ],
   "source": [
    "df_merged.head()"
   ]
  },
  {
   "cell_type": "markdown",
   "id": "a04ede12",
   "metadata": {},
   "source": [
    "Split your data into two sets (training and testing)\n",
    "\n"
   ]
  },
  {
   "cell_type": "code",
   "execution_count": 52,
   "id": "ecbacf72",
   "metadata": {},
   "outputs": [],
   "source": [
    "df_train,df_test=train_test_split(df_merged,test_size=0.2)"
   ]
  },
  {
   "cell_type": "code",
   "execution_count": 54,
   "id": "053bb2af",
   "metadata": {},
   "outputs": [
    {
     "data": {
      "text/html": [
       "<div>\n",
       "<style scoped>\n",
       "    .dataframe tbody tr th:only-of-type {\n",
       "        vertical-align: middle;\n",
       "    }\n",
       "\n",
       "    .dataframe tbody tr th {\n",
       "        vertical-align: top;\n",
       "    }\n",
       "\n",
       "    .dataframe thead th {\n",
       "        text-align: right;\n",
       "    }\n",
       "</style>\n",
       "<table border=\"1\" class=\"dataframe\">\n",
       "  <thead>\n",
       "    <tr style=\"text-align: right;\">\n",
       "      <th></th>\n",
       "      <th>ordered_user_id</th>\n",
       "      <th>ordered_book_id</th>\n",
       "      <th>rating</th>\n",
       "      <th>book_title</th>\n",
       "      <th>book_author</th>\n",
       "      <th>year_of_publication</th>\n",
       "      <th>publisher</th>\n",
       "    </tr>\n",
       "  </thead>\n",
       "  <tbody>\n",
       "    <tr>\n",
       "      <th>1266</th>\n",
       "      <td>268</td>\n",
       "      <td>1022</td>\n",
       "      <td>8</td>\n",
       "      <td>Why I Am a Catholic</td>\n",
       "      <td>Garry Wills</td>\n",
       "      <td>2002</td>\n",
       "      <td>Houghton Mifflin Company</td>\n",
       "    </tr>\n",
       "    <tr>\n",
       "      <th>6595</th>\n",
       "      <td>3</td>\n",
       "      <td>5968</td>\n",
       "      <td>0</td>\n",
       "      <td>Dinosaurs and More Dinosaurs</td>\n",
       "      <td>M. Jean Craig</td>\n",
       "      <td>1986</td>\n",
       "      <td>Scholastic Paperbacks (Mm)</td>\n",
       "    </tr>\n",
       "    <tr>\n",
       "      <th>6145</th>\n",
       "      <td>3</td>\n",
       "      <td>5524</td>\n",
       "      <td>0</td>\n",
       "      <td>Grievous Sin (Peter Decker &amp;amp; Rina Lazarus ...</td>\n",
       "      <td>Faye Kellerman</td>\n",
       "      <td>1994</td>\n",
       "      <td>Fawcett Books</td>\n",
       "    </tr>\n",
       "    <tr>\n",
       "      <th>3218</th>\n",
       "      <td>533</td>\n",
       "      <td>2692</td>\n",
       "      <td>0</td>\n",
       "      <td>Agent 146: The True Story of a Nazi Spy in Ame...</td>\n",
       "      <td>Erich Gimpel</td>\n",
       "      <td>2003</td>\n",
       "      <td>Berkley Publishing Group</td>\n",
       "    </tr>\n",
       "    <tr>\n",
       "      <th>7681</th>\n",
       "      <td>3</td>\n",
       "      <td>7048</td>\n",
       "      <td>0</td>\n",
       "      <td>The Monday to Friday Cookbook</td>\n",
       "      <td>Michele Urvater</td>\n",
       "      <td>1991</td>\n",
       "      <td>Workman Publishing</td>\n",
       "    </tr>\n",
       "    <tr>\n",
       "      <th>...</th>\n",
       "      <td>...</td>\n",
       "      <td>...</td>\n",
       "      <td>...</td>\n",
       "      <td>...</td>\n",
       "      <td>...</td>\n",
       "      <td>...</td>\n",
       "      <td>...</td>\n",
       "    </tr>\n",
       "    <tr>\n",
       "      <th>2222</th>\n",
       "      <td>362</td>\n",
       "      <td>1827</td>\n",
       "      <td>0</td>\n",
       "      <td>Point of Origin</td>\n",
       "      <td>Patricia Daniels Cornwell</td>\n",
       "      <td>1998</td>\n",
       "      <td>Putnam Pub Group</td>\n",
       "    </tr>\n",
       "    <tr>\n",
       "      <th>79</th>\n",
       "      <td>28</td>\n",
       "      <td>67</td>\n",
       "      <td>0</td>\n",
       "      <td>Die Scheibenwelt. Zwei Romane in einem Band. D...</td>\n",
       "      <td>Terry Pratchett</td>\n",
       "      <td>1993</td>\n",
       "      <td>Heyne</td>\n",
       "    </tr>\n",
       "    <tr>\n",
       "      <th>2275</th>\n",
       "      <td>373</td>\n",
       "      <td>1870</td>\n",
       "      <td>6</td>\n",
       "      <td>The House on Mango Street (Vintage Contemporar...</td>\n",
       "      <td>SANDRA CISNEROS</td>\n",
       "      <td>1991</td>\n",
       "      <td>Vintage</td>\n",
       "    </tr>\n",
       "    <tr>\n",
       "      <th>1567</th>\n",
       "      <td>8</td>\n",
       "      <td>1263</td>\n",
       "      <td>0</td>\n",
       "      <td>The 7 Powers of Questions: Secrets to Successf...</td>\n",
       "      <td>Dorothy Leeds</td>\n",
       "      <td>2000</td>\n",
       "      <td>Perigee Books</td>\n",
       "    </tr>\n",
       "    <tr>\n",
       "      <th>86</th>\n",
       "      <td>28</td>\n",
       "      <td>73</td>\n",
       "      <td>0</td>\n",
       "      <td>Moby Dick. ( Ab 12 J.).</td>\n",
       "      <td>Herman Melville</td>\n",
       "      <td>2001</td>\n",
       "      <td>Dressler Verlag</td>\n",
       "    </tr>\n",
       "  </tbody>\n",
       "</table>\n",
       "<p>1741 rows × 7 columns</p>\n",
       "</div>"
      ],
      "text/plain": [
       "      ordered_user_id  ordered_book_id  rating   \n",
       "1266              268             1022       8  \\\n",
       "6595                3             5968       0   \n",
       "6145                3             5524       0   \n",
       "3218              533             2692       0   \n",
       "7681                3             7048       0   \n",
       "...               ...              ...     ...   \n",
       "2222              362             1827       0   \n",
       "79                 28               67       0   \n",
       "2275              373             1870       6   \n",
       "1567                8             1263       0   \n",
       "86                 28               73       0   \n",
       "\n",
       "                                             book_title   \n",
       "1266                                Why I Am a Catholic  \\\n",
       "6595                       Dinosaurs and More Dinosaurs   \n",
       "6145  Grievous Sin (Peter Decker &amp; Rina Lazarus ...   \n",
       "3218  Agent 146: The True Story of a Nazi Spy in Ame...   \n",
       "7681                      The Monday to Friday Cookbook   \n",
       "...                                                 ...   \n",
       "2222                                    Point of Origin   \n",
       "79    Die Scheibenwelt. Zwei Romane in einem Band. D...   \n",
       "2275  The House on Mango Street (Vintage Contemporar...   \n",
       "1567  The 7 Powers of Questions: Secrets to Successf...   \n",
       "86                              Moby Dick. ( Ab 12 J.).   \n",
       "\n",
       "                    book_author  year_of_publication   \n",
       "1266                Garry Wills                 2002  \\\n",
       "6595              M. Jean Craig                 1986   \n",
       "6145             Faye Kellerman                 1994   \n",
       "3218               Erich Gimpel                 2003   \n",
       "7681            Michele Urvater                 1991   \n",
       "...                         ...                  ...   \n",
       "2222  Patricia Daniels Cornwell                 1998   \n",
       "79              Terry Pratchett                 1993   \n",
       "2275            SANDRA CISNEROS                 1991   \n",
       "1567              Dorothy Leeds                 2000   \n",
       "86              Herman Melville                 2001   \n",
       "\n",
       "                       publisher  \n",
       "1266    Houghton Mifflin Company  \n",
       "6595  Scholastic Paperbacks (Mm)  \n",
       "6145               Fawcett Books  \n",
       "3218    Berkley Publishing Group  \n",
       "7681          Workman Publishing  \n",
       "...                          ...  \n",
       "2222            Putnam Pub Group  \n",
       "79                         Heyne  \n",
       "2275                     Vintage  \n",
       "1567               Perigee Books  \n",
       "86               Dressler Verlag  \n",
       "\n",
       "[1741 rows x 7 columns]"
      ]
     },
     "execution_count": 54,
     "metadata": {},
     "output_type": "execute_result"
    }
   ],
   "source": []
  },
  {
   "cell_type": "markdown",
   "id": "2c5daec6",
   "metadata": {},
   "source": [
    "graveyard"
   ]
  },
  {
   "cell_type": "code",
   "execution_count": null,
   "id": "1f3c40e3",
   "metadata": {},
   "outputs": [],
   "source": [
    "sorted_unique_isbn=sorted(ratings[\"isbn\"].unique())# chage to ratings isbn, not unique books. Not every book has a rating\n",
    "\n",
    "\n",
    "len(sorted_unique_isbn)"
   ]
  },
  {
   "cell_type": "code",
   "execution_count": null,
   "id": "d9ed496a",
   "metadata": {},
   "outputs": [],
   "source": [
    "# importing users dataset\n",
    "\n",
    "users=pd.read_csv(\"BX-Users.csv\",encoding=\"latin-1\")"
   ]
  },
  {
   "cell_type": "code",
   "execution_count": null,
   "id": "47c27e3b",
   "metadata": {},
   "outputs": [],
   "source": [
    "users.info()"
   ]
  },
  {
   "cell_type": "code",
   "execution_count": null,
   "id": "55e43656",
   "metadata": {},
   "outputs": [],
   "source": [
    "user_ids=users[\"user_id\"].astype(str)\n",
    "sorted_unique_user_ids=sorted(user_ids)"
   ]
  },
  {
   "cell_type": "code",
   "execution_count": null,
   "id": "f8d5bb52",
   "metadata": {},
   "outputs": [],
   "source": [
    "# assigning unique values from 0 to n-1 for isbns and user_ids\n",
    "\n",
    "enumerate(sorted_unique_isbn)"
   ]
  },
  {
   "cell_type": "code",
   "execution_count": null,
   "id": "5e9aad6c",
   "metadata": {},
   "outputs": [],
   "source": [
    "# ordered lists:\n",
    "numeric_isbn={isbn:index for index, isbn in enumerate(sorted_unique_isbn)}\n",
    "numeric_user_ids={user_ids:index for index, user_ids in enumerate(sorted_unique_user_ids)}"
   ]
  },
  {
   "cell_type": "markdown",
   "id": "4830ac18",
   "metadata": {},
   "source": [
    "#### Build Matrix"
   ]
  },
  {
   "cell_type": "code",
   "execution_count": null,
   "id": "8b2508ab",
   "metadata": {},
   "outputs": [],
   "source": [
    "import pandas as pd\n",
    "import numpy as np\n",
    "\n",
    "# Initialize an empty matrix\n",
    "user_item_matrix = pd.DataFrame(np.zeros((len(sorted_user_ids), len(sorted_isbns))), index=sorted_user_ids, columns=sorted_isbns)\n",
    "\n",
    "# Fill in the matrix with ratings from your dataset\n",
    "for index, row in ratings_df.iterrows():\n",
    "    user_id = row['user_id']\n",
    "    isbn = row['ISBN']\n",
    "    rating = row['rating']\n",
    "    user_item_matrix.at[user_id, isbn] = rating\n"
   ]
  },
  {
   "cell_type": "code",
   "execution_count": null,
   "id": "c5d02f8b",
   "metadata": {},
   "outputs": [],
   "source": [
    "#Users are Rows, Books are Columns, Ratings are values\n",
    "user_books_matrix=pd.DataFrame(np.zeros((len(sorted_unique_isbn),len(sorted_unique_user_ids))))\n"
   ]
  },
  {
   "cell_type": "code",
   "execution_count": null,
   "id": "da0a5b80",
   "metadata": {},
   "outputs": [],
   "source": [
    "len(sorted_unique_isbn)"
   ]
  },
  {
   "cell_type": "code",
   "execution_count": null,
   "id": "def6176b",
   "metadata": {},
   "outputs": [],
   "source": [
    "sorted_unique_isbn"
   ]
  },
  {
   "cell_type": "code",
   "execution_count": null,
   "id": "eea5e43c",
   "metadata": {},
   "outputs": [],
   "source": [
    "ratings[\"user_id\"].nunique(), ratings[\"isbn\"].nunique()"
   ]
  },
  {
   "cell_type": "code",
   "execution_count": null,
   "id": "88dd4879",
   "metadata": {},
   "outputs": [],
   "source": [
    "sorted_unique_user_ids"
   ]
  },
  {
   "cell_type": "code",
   "execution_count": null,
   "id": "18abb896",
   "metadata": {},
   "outputs": [],
   "source": [
    "numeric_user_ids"
   ]
  },
  {
   "cell_type": "code",
   "execution_count": null,
   "id": "daec383c",
   "metadata": {},
   "outputs": [],
   "source": [
    "len(numeric_user_ids)"
   ]
  },
  {
   "cell_type": "code",
   "execution_count": null,
   "id": "09eb3ac3",
   "metadata": {},
   "outputs": [],
   "source": [
    "len(numeric_user_ids.keys())"
   ]
  },
  {
   "cell_type": "code",
   "execution_count": null,
   "id": "3d8d8a53",
   "metadata": {},
   "outputs": [],
   "source": [
    "len(sorted_unique_user_ids)"
   ]
  },
  {
   "cell_type": "code",
   "execution_count": null,
   "id": "379aafec",
   "metadata": {},
   "outputs": [],
   "source": []
  }
 ],
 "metadata": {
  "kernelspec": {
   "display_name": "Python 3 (ipykernel)",
   "language": "python",
   "name": "python3"
  },
  "language_info": {
   "codemirror_mode": {
    "name": "ipython",
    "version": 3
   },
   "file_extension": ".py",
   "mimetype": "text/x-python",
   "name": "python",
   "nbconvert_exporter": "python",
   "pygments_lexer": "ipython3",
   "version": "3.9.7"
  }
 },
 "nbformat": 4,
 "nbformat_minor": 5
}
